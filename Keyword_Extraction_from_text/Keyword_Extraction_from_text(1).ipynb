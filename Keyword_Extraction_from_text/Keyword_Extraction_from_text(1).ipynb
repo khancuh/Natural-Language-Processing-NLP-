{
  "nbformat": 4,
  "nbformat_minor": 0,
  "metadata": {
    "colab": {
      "name": "Keyword Extraction from text.ipynb",
      "provenance": [],
      "collapsed_sections": []
    },
    "kernelspec": {
      "name": "python3",
      "display_name": "Python 3"
    },
    "language_info": {
      "name": "python"
    }
  },
  "cells": [
    {
      "cell_type": "markdown",
      "metadata": {
        "id": "uSkXSSPTrZ9y"
      },
      "source": [
        " Import Packages"
      ]
    },
    {
      "cell_type": "code",
      "metadata": {
        "id": "i4bICUl9Y7j0"
      },
      "source": [
        "from nltk import tokenize\n",
        "from operator import itemgetter\n",
        "import math"
      ],
      "execution_count": 1,
      "outputs": []
    },
    {
      "cell_type": "markdown",
      "metadata": {
        "id": "xHaoFdLknKgM"
      },
      "source": [
        "Declare Variables -:\n",
        "We will declare a string variable. It will be a placeholder for the sample text document"
      ]
    },
    {
      "cell_type": "code",
      "metadata": {
        "id": "3RXwjs7unHk8"
      },
      "source": [
        "doc = 'I am a Post graduate. I want to learn Newskill. I like learning Newskill. Python is easy. Python is interesting. Learning increases thinking. Everyone should invest time in learning'"
      ],
      "execution_count": 2,
      "outputs": []
    },
    {
      "cell_type": "markdown",
      "metadata": {
        "id": "vL0tHpaHnqMt"
      },
      "source": [
        "Remove stopwords -: Remove stopwords"
      ]
    },
    {
      "cell_type": "code",
      "metadata": {
        "colab": {
          "base_uri": "https://localhost:8080/"
        },
        "id": "-QRYrLwDnmCT",
        "outputId": "b5a14171-d1f1-4189-d825-9206011235a0"
      },
      "source": [
        "import nltk\n",
        "from nltk.corpus import stopwords\n",
        "from nltk.tokenize import word_tokenize \n",
        "nltk.download('stopwords')\n",
        "nltk.download('punkt')\n",
        "stop_words = set(stopwords.words('english'))"
      ],
      "execution_count": 3,
      "outputs": [
        {
          "output_type": "stream",
          "text": [
            "[nltk_data] Downloading package stopwords to /root/nltk_data...\n",
            "[nltk_data]   Package stopwords is already up-to-date!\n",
            "[nltk_data] Downloading package punkt to /root/nltk_data...\n",
            "[nltk_data]   Package punkt is already up-to-date!\n"
          ],
          "name": "stdout"
        }
      ]
    },
    {
      "cell_type": "markdown",
      "metadata": {
        "id": "5aW2nt4uoBlS"
      },
      "source": [
        "Find total words in the document -: This will be required while calculating Term Frequency"
      ]
    },
    {
      "cell_type": "code",
      "metadata": {
        "colab": {
          "base_uri": "https://localhost:8080/"
        },
        "id": "QDW4DKw1nxau",
        "outputId": "0ac2a9bb-d00e-45fb-de5d-a0079aff4bd7"
      },
      "source": [
        "total_words = doc.split()\n",
        "total_word_length = len(total_words)\n",
        "print(total_word_length)"
      ],
      "execution_count": 4,
      "outputs": [
        {
          "output_type": "stream",
          "text": [
            "29\n"
          ],
          "name": "stdout"
        }
      ]
    },
    {
      "cell_type": "markdown",
      "metadata": {
        "id": "rRHLiK90oQvR"
      },
      "source": [
        "Find the total number of sentences -: This will be required while calculating Inverse Document Frequency"
      ]
    },
    {
      "cell_type": "code",
      "metadata": {
        "colab": {
          "base_uri": "https://localhost:8080/"
        },
        "id": "tbTksTrGoM4z",
        "outputId": "58258c36-c849-4511-d8a6-ec8ac27f9945"
      },
      "source": [
        "total_sentences = tokenize.sent_tokenize(doc)\n",
        "total_sent_len = len(total_sentences)\n",
        "print(total_sent_len)"
      ],
      "execution_count": 5,
      "outputs": [
        {
          "output_type": "stream",
          "text": [
            "7\n"
          ],
          "name": "stdout"
        }
      ]
    },
    {
      "cell_type": "markdown",
      "metadata": {
        "id": "nE2dXdhMokix"
      },
      "source": [
        " Calculate TF for each word -: We will begin by calculating the word count for each non-stop words and finally divide each element by the result of step 4"
      ]
    },
    {
      "cell_type": "code",
      "metadata": {
        "colab": {
          "base_uri": "https://localhost:8080/"
        },
        "id": "UY2ZkQvToYhc",
        "outputId": "3c3ac7ca-ce01-45c2-85a7-284c5f6e7468"
      },
      "source": [
        "tf_score = {}\n",
        "for each_word in total_words:\n",
        "    each_word = each_word.replace('.','')\n",
        "    if each_word not in stop_words:\n",
        "        if each_word in tf_score:\n",
        "            tf_score[each_word] += 1\n",
        "        else:\n",
        "            tf_score[each_word] = 1\n",
        "\n",
        "# Dividing by total_word_length for each dictionary element\n",
        "tf_score.update((x, y/int(total_word_length)) for x, y in tf_score.items())\n",
        "print(tf_score)"
      ],
      "execution_count": 6,
      "outputs": [
        {
          "output_type": "stream",
          "text": [
            "{'I': 0.10344827586206896, 'Post': 0.034482758620689655, 'graduate': 0.034482758620689655, 'want': 0.034482758620689655, 'learn': 0.034482758620689655, 'Newskill': 0.06896551724137931, 'like': 0.034482758620689655, 'learning': 0.06896551724137931, 'Python': 0.06896551724137931, 'easy': 0.034482758620689655, 'interesting': 0.034482758620689655, 'Learning': 0.034482758620689655, 'increases': 0.034482758620689655, 'thinking': 0.034482758620689655, 'Everyone': 0.034482758620689655, 'invest': 0.034482758620689655, 'time': 0.034482758620689655}\n"
          ],
          "name": "stdout"
        }
      ]
    },
    {
      "cell_type": "markdown",
      "metadata": {
        "id": "OHREwQKYoxSV"
      },
      "source": [
        "Function to check if the word is present in a sentence list -: This method will be required when calculating IDF."
      ]
    },
    {
      "cell_type": "code",
      "metadata": {
        "id": "NOHsfauworyA"
      },
      "source": [
        "def check_sent(word, sentences): \n",
        "    final = [all([w in x for w in word]) for x in sentences] \n",
        "    sent_len = [sentences[i] for i in range(0, len(final)) if final[i]]\n",
        "    return int(len(sent_len))"
      ],
      "execution_count": 7,
      "outputs": []
    },
    {
      "cell_type": "markdown",
      "metadata": {
        "id": "oH8RlK-6o8gW"
      },
      "source": [
        "Calculate IDF for each word -: We will use the function in step 7 to iterate the non-stop word and store the result for Inverse Document Frequency"
      ]
    },
    {
      "cell_type": "code",
      "metadata": {
        "colab": {
          "base_uri": "https://localhost:8080/"
        },
        "id": "aYN5OOodo43v",
        "outputId": "d0feda7e-aec6-4a49-c798-3aca260ef87e"
      },
      "source": [
        "idf_score = {}\n",
        "for each_word in total_words:\n",
        "    each_word = each_word.replace('.','')\n",
        "    if each_word not in stop_words:\n",
        "        if each_word in idf_score:\n",
        "            idf_score[each_word] = check_sent(each_word, total_sentences)\n",
        "        else:\n",
        "            idf_score[each_word] = 1\n",
        "\n",
        "# Performing a log and divide\n",
        "idf_score.update((x, math.log(int(total_sent_len)/y)) for x, y in idf_score.items())\n",
        "\n",
        "print(idf_score)"
      ],
      "execution_count": 8,
      "outputs": [
        {
          "output_type": "stream",
          "text": [
            "{'I': 0.8472978603872037, 'Post': 1.9459101490553132, 'graduate': 1.9459101490553132, 'want': 1.9459101490553132, 'learn': 1.9459101490553132, 'Newskill': 1.252762968495368, 'like': 1.9459101490553132, 'learning': 1.252762968495368, 'Python': 1.252762968495368, 'easy': 1.9459101490553132, 'interesting': 1.9459101490553132, 'Learning': 1.9459101490553132, 'increases': 1.9459101490553132, 'thinking': 1.9459101490553132, 'Everyone': 1.9459101490553132, 'invest': 1.9459101490553132, 'time': 1.9459101490553132}\n"
          ],
          "name": "stdout"
        }
      ]
    },
    {
      "cell_type": "markdown",
      "metadata": {
        "id": "63NuUrGlpLnA"
      },
      "source": [
        "Calculate TF * IDF -: Since the key of both the dictionary is the same, we can iterate one dictionary to get the keys and multiply the values of both"
      ]
    },
    {
      "cell_type": "code",
      "metadata": {
        "colab": {
          "base_uri": "https://localhost:8080/"
        },
        "id": "MNAkxG7ypIIT",
        "outputId": "859d68df-67ed-4249-98c6-84a95740a69a"
      },
      "source": [
        "tf_idf_score = {key: tf_score[key] * idf_score.get(key, 0) for key in tf_score.keys()}\n",
        "print(tf_idf_score)"
      ],
      "execution_count": 9,
      "outputs": [
        {
          "output_type": "stream",
          "text": [
            "{'I': 0.08765150279867624, 'Post': 0.06710034996742459, 'graduate': 0.06710034996742459, 'want': 0.06710034996742459, 'learn': 0.06710034996742459, 'Newskill': 0.08639744610312883, 'like': 0.06710034996742459, 'learning': 0.08639744610312883, 'Python': 0.08639744610312883, 'easy': 0.06710034996742459, 'interesting': 0.06710034996742459, 'Learning': 0.06710034996742459, 'increases': 0.06710034996742459, 'thinking': 0.06710034996742459, 'Everyone': 0.06710034996742459, 'invest': 0.06710034996742459, 'time': 0.06710034996742459}\n"
          ],
          "name": "stdout"
        }
      ]
    },
    {
      "cell_type": "markdown",
      "metadata": {
        "id": "6pRzhCPYpXu2"
      },
      "source": [
        "Create a function to get N important words in the document"
      ]
    },
    {
      "cell_type": "code",
      "metadata": {
        "id": "CT_wCUmBpSEZ"
      },
      "source": [
        "def get_top_n(dict_elem, n):\n",
        "    result = dict(sorted(dict_elem.items(), key = itemgetter(1), reverse = True)[:n]) \n",
        "    return result"
      ],
      "execution_count": 10,
      "outputs": []
    },
    {
      "cell_type": "markdown",
      "metadata": {
        "id": "5HBHeXcbpfYD"
      },
      "source": [
        "Get the top 5 words of significance"
      ]
    },
    {
      "cell_type": "code",
      "metadata": {
        "colab": {
          "base_uri": "https://localhost:8080/"
        },
        "id": "Eaa4yEf-pbvQ",
        "outputId": "cdb50245-3b85-4a10-9947-efa630c167bc"
      },
      "source": [
        "print(get_top_n(tf_idf_score, 5))"
      ],
      "execution_count": 11,
      "outputs": [
        {
          "output_type": "stream",
          "text": [
            "{'I': 0.08765150279867624, 'Newskill': 0.08639744610312883, 'learning': 0.08639744610312883, 'Python': 0.08639744610312883, 'Post': 0.06710034996742459}\n"
          ],
          "name": "stdout"
        }
      ]
    },
    {
      "cell_type": "code",
      "metadata": {
        "id": "yC3OTzBGplLH"
      },
      "source": [
        ""
      ],
      "execution_count": null,
      "outputs": []
    }
  ]
}
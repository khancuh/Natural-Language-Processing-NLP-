{
  "nbformat": 4,
  "nbformat_minor": 0,
  "metadata": {
    "colab": {
      "name": "Comment Analysis.ipynb",
      "provenance": [],
      "collapsed_sections": [],
      "toc_visible": true
    },
    "kernelspec": {
      "name": "python3",
      "display_name": "Python 3"
    }
  },
  "cells": [
    {
      "cell_type": "markdown",
      "metadata": {
        "id": "6PY41qspkJeA",
        "colab_type": "text"
      },
      "source": [
        "#Comment_analysis using Sentiment Analysis "
      ]
    },
    {
      "cell_type": "markdown",
      "metadata": {
        "id": "Qqx6hG4q8mpU",
        "colab_type": "text"
      },
      "source": [
        "#Some Import Important Library"
      ]
    },
    {
      "cell_type": "code",
      "metadata": {
        "id": "volo9QAX5HIA",
        "colab_type": "code",
        "colab": {
          "base_uri": "https://localhost:8080/",
          "height": 92
        },
        "outputId": "a97fdd1a-24ec-4898-af41-473cd6a765e1"
      },
      "source": [
        "import pandas as pd\n",
        "import numpy as np\n",
        "import seaborn as sns\n",
        "import matplotlib.pyplot as plt\n",
        "from sklearn.ensemble import RandomForestClassifier\n",
        "from sklearn.metrics import accuracy_score, classification_report,confusion_matrix\n",
        "from sklearn.model_selection import cross_val_score\n",
        "from sklearn.model_selection import GridSearchCV\n",
        "import random\n",
        "random.randint(1,100)"
      ],
      "execution_count": 1,
      "outputs": [
        {
          "output_type": "stream",
          "text": [
            "/usr/local/lib/python3.6/dist-packages/statsmodels/tools/_testing.py:19: FutureWarning: pandas.util.testing is deprecated. Use the functions in the public API at pandas.testing instead.\n",
            "  import pandas.util.testing as tm\n"
          ],
          "name": "stderr"
        },
        {
          "output_type": "execute_result",
          "data": {
            "text/plain": [
              "49"
            ]
          },
          "metadata": {
            "tags": []
          },
          "execution_count": 1
        }
      ]
    },
    {
      "cell_type": "markdown",
      "metadata": {
        "id": "Z59Qozr-8uGE",
        "colab_type": "text"
      },
      "source": [
        "#Load The Data set"
      ]
    },
    {
      "cell_type": "code",
      "metadata": {
        "id": "PzN2Fcg45qec",
        "colab_type": "code",
        "colab": {}
      },
      "source": [
        "df = pd.read_csv(\"/content/drive/My Drive/comment Analysis.csv\")"
      ],
      "execution_count": 2,
      "outputs": []
    },
    {
      "cell_type": "markdown",
      "metadata": {
        "id": "vq3Jfg9781KS",
        "colab_type": "text"
      },
      "source": [
        "#Exploring the Data set"
      ]
    },
    {
      "cell_type": "code",
      "metadata": {
        "id": "yxYVrcM06h_8",
        "colab_type": "code",
        "colab": {
          "base_uri": "https://localhost:8080/",
          "height": 206
        },
        "outputId": "e86d3132-e34c-4680-e0f5-226db712dfef"
      },
      "source": [
        "df.head()"
      ],
      "execution_count": 3,
      "outputs": [
        {
          "output_type": "execute_result",
          "data": {
            "text/html": [
              "<div>\n",
              "<style scoped>\n",
              "    .dataframe tbody tr th:only-of-type {\n",
              "        vertical-align: middle;\n",
              "    }\n",
              "\n",
              "    .dataframe tbody tr th {\n",
              "        vertical-align: top;\n",
              "    }\n",
              "\n",
              "    .dataframe thead th {\n",
              "        text-align: right;\n",
              "    }\n",
              "</style>\n",
              "<table border=\"1\" class=\"dataframe\">\n",
              "  <thead>\n",
              "    <tr style=\"text-align: right;\">\n",
              "      <th></th>\n",
              "      <th>Comment</th>\n",
              "    </tr>\n",
              "  </thead>\n",
              "  <tbody>\n",
              "    <tr>\n",
              "      <th>0</th>\n",
              "      <td>OMG i never Belive that i will be able to loss...</td>\n",
              "    </tr>\n",
              "    <tr>\n",
              "      <th>1</th>\n",
              "      <td>was not helpful to me thanks to @dr_wisdom_her...</td>\n",
              "    </tr>\n",
              "    <tr>\n",
              "      <th>2</th>\n",
              "      <td>his herbs and roots he ship to me, which i dri...</td>\n",
              "    </tr>\n",
              "    <tr>\n",
              "      <th>3</th>\n",
              "      <td>happiest creation on earth thanks to @dr_wisdo...</td>\n",
              "    </tr>\n",
              "    <tr>\n",
              "      <th>4</th>\n",
              "      <td>@plumbodylovin great giveaway lol... I was ski...</td>\n",
              "    </tr>\n",
              "  </tbody>\n",
              "</table>\n",
              "</div>"
            ],
            "text/plain": [
              "                                             Comment\n",
              "0  OMG i never Belive that i will be able to loss...\n",
              "1  was not helpful to me thanks to @dr_wisdom_her...\n",
              "2  his herbs and roots he ship to me, which i dri...\n",
              "3  happiest creation on earth thanks to @dr_wisdo...\n",
              "4  @plumbodylovin great giveaway lol... I was ski..."
            ]
          },
          "metadata": {
            "tags": []
          },
          "execution_count": 3
        }
      ]
    },
    {
      "cell_type": "code",
      "metadata": {
        "id": "Xa4_WsYv6oIU",
        "colab_type": "code",
        "colab": {
          "base_uri": "https://localhost:8080/",
          "height": 206
        },
        "outputId": "c1c6637f-42dc-491f-8408-564c8a28cdd4"
      },
      "source": [
        "df.tail()"
      ],
      "execution_count": 4,
      "outputs": [
        {
          "output_type": "execute_result",
          "data": {
            "text/html": [
              "<div>\n",
              "<style scoped>\n",
              "    .dataframe tbody tr th:only-of-type {\n",
              "        vertical-align: middle;\n",
              "    }\n",
              "\n",
              "    .dataframe tbody tr th {\n",
              "        vertical-align: top;\n",
              "    }\n",
              "\n",
              "    .dataframe thead th {\n",
              "        text-align: right;\n",
              "    }\n",
              "</style>\n",
              "<table border=\"1\" class=\"dataframe\">\n",
              "  <thead>\n",
              "    <tr style=\"text-align: right;\">\n",
              "      <th></th>\n",
              "      <th>Comment</th>\n",
              "    </tr>\n",
              "  </thead>\n",
              "  <tbody>\n",
              "    <tr>\n",
              "      <th>152</th>\n",
              "      <td>This red lipstick looks beautiful on you</td>\n",
              "    </tr>\n",
              "    <tr>\n",
              "      <th>153</th>\n",
              "      <td>i will surely participate. you are looking stu...</td>\n",
              "    </tr>\n",
              "    <tr>\n",
              "      <th>154</th>\n",
              "      <td>I love the red shade</td>\n",
              "    </tr>\n",
              "    <tr>\n",
              "      <th>155</th>\n",
              "      <td>So beautiful neck pc. Style</td>\n",
              "    </tr>\n",
              "    <tr>\n",
              "      <th>156</th>\n",
              "      <td>Such a stunning pichaa</td>\n",
              "    </tr>\n",
              "  </tbody>\n",
              "</table>\n",
              "</div>"
            ],
            "text/plain": [
              "                                               Comment\n",
              "152           This red lipstick looks beautiful on you\n",
              "153  i will surely participate. you are looking stu...\n",
              "154                               I love the red shade\n",
              "155                        So beautiful neck pc. Style\n",
              "156                             Such a stunning pichaa"
            ]
          },
          "metadata": {
            "tags": []
          },
          "execution_count": 4
        }
      ]
    },
    {
      "cell_type": "markdown",
      "metadata": {
        "id": "uLsIjpcd6Iim",
        "colab_type": "text"
      },
      "source": [
        "#Creating New Column"
      ]
    },
    {
      "cell_type": "code",
      "metadata": {
        "id": "KYturtSG6r7u",
        "colab_type": "code",
        "colab": {}
      },
      "source": [
        "df[\"Label\"] = \"\""
      ],
      "execution_count": 5,
      "outputs": []
    },
    {
      "cell_type": "code",
      "metadata": {
        "id": "F1fgA0266z5V",
        "colab_type": "code",
        "colab": {
          "base_uri": "https://localhost:8080/",
          "height": 35
        },
        "outputId": "8aa2da3e-50f6-4bcf-f09f-ca144f669fc4"
      },
      "source": [
        "df.columns"
      ],
      "execution_count": 6,
      "outputs": [
        {
          "output_type": "execute_result",
          "data": {
            "text/plain": [
              "Index(['Comment', 'Label'], dtype='object')"
            ]
          },
          "metadata": {
            "tags": []
          },
          "execution_count": 6
        }
      ]
    },
    {
      "cell_type": "code",
      "metadata": {
        "id": "aG_-UtyK63kQ",
        "colab_type": "code",
        "colab": {
          "base_uri": "https://localhost:8080/",
          "height": 206
        },
        "outputId": "72c94722-8f9b-485c-a484-c9f17cffdf61"
      },
      "source": [
        "df.head()"
      ],
      "execution_count": 7,
      "outputs": [
        {
          "output_type": "execute_result",
          "data": {
            "text/html": [
              "<div>\n",
              "<style scoped>\n",
              "    .dataframe tbody tr th:only-of-type {\n",
              "        vertical-align: middle;\n",
              "    }\n",
              "\n",
              "    .dataframe tbody tr th {\n",
              "        vertical-align: top;\n",
              "    }\n",
              "\n",
              "    .dataframe thead th {\n",
              "        text-align: right;\n",
              "    }\n",
              "</style>\n",
              "<table border=\"1\" class=\"dataframe\">\n",
              "  <thead>\n",
              "    <tr style=\"text-align: right;\">\n",
              "      <th></th>\n",
              "      <th>Comment</th>\n",
              "      <th>Label</th>\n",
              "    </tr>\n",
              "  </thead>\n",
              "  <tbody>\n",
              "    <tr>\n",
              "      <th>0</th>\n",
              "      <td>OMG i never Belive that i will be able to loss...</td>\n",
              "      <td></td>\n",
              "    </tr>\n",
              "    <tr>\n",
              "      <th>1</th>\n",
              "      <td>was not helpful to me thanks to @dr_wisdom_her...</td>\n",
              "      <td></td>\n",
              "    </tr>\n",
              "    <tr>\n",
              "      <th>2</th>\n",
              "      <td>his herbs and roots he ship to me, which i dri...</td>\n",
              "      <td></td>\n",
              "    </tr>\n",
              "    <tr>\n",
              "      <th>3</th>\n",
              "      <td>happiest creation on earth thanks to @dr_wisdo...</td>\n",
              "      <td></td>\n",
              "    </tr>\n",
              "    <tr>\n",
              "      <th>4</th>\n",
              "      <td>@plumbodylovin great giveaway lol... I was ski...</td>\n",
              "      <td></td>\n",
              "    </tr>\n",
              "  </tbody>\n",
              "</table>\n",
              "</div>"
            ],
            "text/plain": [
              "                                             Comment Label\n",
              "0  OMG i never Belive that i will be able to loss...      \n",
              "1  was not helpful to me thanks to @dr_wisdom_her...      \n",
              "2  his herbs and roots he ship to me, which i dri...      \n",
              "3  happiest creation on earth thanks to @dr_wisdo...      \n",
              "4  @plumbodylovin great giveaway lol... I was ski...      "
            ]
          },
          "metadata": {
            "tags": []
          },
          "execution_count": 7
        }
      ]
    },
    {
      "cell_type": "code",
      "metadata": {
        "id": "xfTHV37x7OaP",
        "colab_type": "code",
        "colab": {
          "base_uri": "https://localhost:8080/",
          "height": 72
        },
        "outputId": "4686329d-dd53-4ccf-8e01-75ad5df1055e"
      },
      "source": [
        "df.isnull().sum()"
      ],
      "execution_count": 8,
      "outputs": [
        {
          "output_type": "execute_result",
          "data": {
            "text/plain": [
              "Comment    0\n",
              "Label      0\n",
              "dtype: int64"
            ]
          },
          "metadata": {
            "tags": []
          },
          "execution_count": 8
        }
      ]
    },
    {
      "cell_type": "code",
      "metadata": {
        "id": "hZmfruJt7ZDy",
        "colab_type": "code",
        "colab": {
          "base_uri": "https://localhost:8080/",
          "height": 35
        },
        "outputId": "84bab300-71c7-4d14-8461-18305251e299"
      },
      "source": [
        "df.shape"
      ],
      "execution_count": 9,
      "outputs": [
        {
          "output_type": "execute_result",
          "data": {
            "text/plain": [
              "(157, 2)"
            ]
          },
          "metadata": {
            "tags": []
          },
          "execution_count": 9
        }
      ]
    },
    {
      "cell_type": "markdown",
      "metadata": {
        "id": "Yre2Jh8H893u",
        "colab_type": "text"
      },
      "source": [
        "#Data Cleaning"
      ]
    },
    {
      "cell_type": "markdown",
      "metadata": {
        "id": "fnc3t3pv92RW",
        "colab_type": "text"
      },
      "source": [
        "#Importing Essential libraries for performing NLP"
      ]
    },
    {
      "cell_type": "code",
      "metadata": {
        "id": "35dao3oi7gST",
        "colab_type": "code",
        "colab": {
          "base_uri": "https://localhost:8080/",
          "height": 90
        },
        "outputId": "0c9b58f9-4b3a-4296-e0c2-84ea74758f2c"
      },
      "source": [
        "import nltk\n",
        "import re\n",
        "nltk.download('stopwords')\n",
        "nltk.download('wordnet')\n",
        "from nltk.corpus import stopwords\n",
        "from nltk.stem import WordNetLemmatizer"
      ],
      "execution_count": 10,
      "outputs": [
        {
          "output_type": "stream",
          "text": [
            "[nltk_data] Downloading package stopwords to /root/nltk_data...\n",
            "[nltk_data]   Unzipping corpora/stopwords.zip.\n",
            "[nltk_data] Downloading package wordnet to /root/nltk_data...\n",
            "[nltk_data]   Unzipping corpora/wordnet.zip.\n"
          ],
          "name": "stdout"
        }
      ]
    },
    {
      "cell_type": "code",
      "metadata": {
        "id": "CiuR9nXK7-fi",
        "colab_type": "code",
        "colab": {}
      },
      "source": [
        "#Cleaning the Comment Column\n",
        "corpus = []\n",
        "wnl = WordNetLemmatizer()\n",
        "\n",
        "for Comment_string in list(df.Comment):\n",
        "    #Cleaning special character from the Comment Column\n",
        "    Comment = re.sub(pattern='[^a-zA-Z]', repl=' ', string=Comment_string)\n",
        "    #Converting the entire Comment into lower case\n",
        "    Comment = Comment.lower()\n",
        "    #Tokanizing the Comment by words\n",
        "    words = Comment.split()\n",
        "    #Removing the stopwards \n",
        "    filtered_words = [word for word in words if word not in set(stopwords.words('english'))]\n",
        "    #Lemmatizing the words\n",
        "    lemmatized_words = [wnl.lemmatize(word) for word in filtered_words]\n",
        "    #Joining the lemmatized words\n",
        "    Comment=' '.join(lemmatized_words)\n",
        "    #Buliding the corpus of Comment column\n",
        "    corpus.append(Comment)"
      ],
      "execution_count": 11,
      "outputs": []
    },
    {
      "cell_type": "code",
      "metadata": {
        "id": "k7tWyRaW8La_",
        "colab_type": "code",
        "colab": {
          "base_uri": "https://localhost:8080/",
          "height": 1000
        },
        "outputId": "f91454bf-4500-4bf5-dc9b-88bf8fae093d"
      },
      "source": [
        "corpus[:157]"
      ],
      "execution_count": 12,
      "outputs": [
        {
          "output_type": "execute_result",
          "data": {
            "text/plain": [
              "['omg never belive able loss weight try several method going gym many thing',\n",
              " 'helpful thanks dr wisdom herb made possible able loss weight use',\n",
              " 'herb root ship drink one month weight return normal',\n",
              " 'happiest creation earth thanks dr wisdom herb god bless forever love',\n",
              " 'plumbodylovin great giveaway lol skinny back school cant even begin tell many taunt used',\n",
              " 'receive khaati piti nai hai kya kuch like bruhhh annoying',\n",
              " 'dont believe body shaming',\n",
              " 'eve faced bodyshaming care plumgoodness',\n",
              " 'wait till school day skinny bad phase',\n",
              " 'checking plumbodylovin never body shamed victim colorism',\n",
              " 'hv hving',\n",
              " 'always find syrup cold cough tablet cofsils india bag',\n",
              " 'needed weather',\n",
              " 'really careful getting cough hell throat definitely check',\n",
              " 'wat wanted father cofsils india',\n",
              " 'drooling ovenstory pizza',\n",
              " 'pizza long',\n",
              " 'miss hving cheese burst pizza',\n",
              " 'need pizza ovenstroy',\n",
              " 'oh wow feeling hungry',\n",
              " 'girl look bomb af',\n",
              " 'omg want paryushan though',\n",
              " 'awaiting video',\n",
              " 'word pretty worthless without',\n",
              " 'letecomers grassisgreeenish cocreateyourjourney iinstahash wed aug',\n",
              " 'kri sha kindly check dm offer thank',\n",
              " 'definitely check',\n",
              " 'product seems promising one',\n",
              " 'watch caught attention',\n",
              " 'waiting video dear',\n",
              " 'check collection gudindia red blue suit much',\n",
              " 'definitely checking gudindia collection',\n",
              " 'superb thought krisha',\n",
              " 'always self love everything beautiful way sharing contest friend',\n",
              " 'amazing giveaway',\n",
              " 'like wow really amazing',\n",
              " 'inspiring body beautiful',\n",
              " 'girl experience totally agree word plumbodylovin hope win',\n",
              " 'yes every body beautiful body',\n",
              " 'wow one absolutely adorable',\n",
              " 'definitely body loving amazing initiative plumbodylovin',\n",
              " 'awesome initiative plumbodylovin family member commented thigh',\n",
              " 'know thick thigh save life',\n",
              " 'still facing fat shaming day okay love body kuddos plumbodylovin',\n",
              " 'fat shammed life totally relate plumbodylovin',\n",
              " 'thts amazing initiative plumbodylovin definitely participating',\n",
              " 'cute need try th range',\n",
              " 'always love',\n",
              " 'definitely body loving always',\n",
              " 'thats pretty amazing initiative plumbodylovin abt body shaming care people think kuch toh log kahenge',\n",
              " 'logo ka kaam hai kehna',\n",
              " 'product seems excellent one',\n",
              " 'wow inspiring',\n",
              " 'inspiring',\n",
              " 'yusssss soooooo inspiring',\n",
              " 'perspective good',\n",
              " 'cofsils india really nice like',\n",
              " 'cofsils india seems really helpful curing cough',\n",
              " 'essential product hour cofsils india',\n",
              " 'cofsils india saviour sure',\n",
              " 'get one cofsils india',\n",
              " 'cofsils india saviour sure',\n",
              " 'thank sharing surely ordering',\n",
              " 'cofsils india gargle must keep u protected changing weather health issue',\n",
              " 'cofsils india always made feel better household staple',\n",
              " 'thats one trusted',\n",
              " 'cofsils india really amazing cough cold',\n",
              " 'product look amazing try',\n",
              " 'product look great try',\n",
              " 'wow informative post',\n",
              " 'post really informative',\n",
              " 'cofsils india amazing product gargle',\n",
              " 'cofsils india always savior',\n",
              " 'already',\n",
              " 'wow informative post',\n",
              " 'forever love',\n",
              " 'ovenstory fav pizza',\n",
              " 'tempting',\n",
              " 'wow look yum',\n",
              " 'wow fabulous really like',\n",
              " 'seems like yummy pizza',\n",
              " 'wait order ovenstory',\n",
              " 'amazing best pizza',\n",
              " 'seems yumm would surely love',\n",
              " 'love ordering ovenstory whenever want snack pizza',\n",
              " 'ovenstory amazing cheesy pizzaaa',\n",
              " 'pizza forever love',\n",
              " 'ovenstory pizza favorite anyday',\n",
              " 'pretty shot',\n",
              " 'love styling babe',\n",
              " 'hahah nice caption pic',\n",
              " 'look pretty one',\n",
              " 'beautiful shot',\n",
              " 'hehe true look pretty',\n",
              " 'wwoww fabulous',\n",
              " 'stunning picture',\n",
              " 'totally well',\n",
              " 'aww u look incredibly cute',\n",
              " 'thats pretty awesome shot love black zipper',\n",
              " 'beautiful shot love editing',\n",
              " 'relatable bte nice click',\n",
              " 'love shot krisha amazing',\n",
              " 'look perfect wing',\n",
              " 'look really pretty absolutely loved top',\n",
              " 'hahah caption perfectly sum capture',\n",
              " 'relatable cute',\n",
              " 'wow beautiful shot',\n",
              " 'amazing post',\n",
              " 'looking beautiful nice pic',\n",
              " 'aww cute shot',\n",
              " 'pretty love ur smile',\n",
              " 'really like aesthetic',\n",
              " 'amazing shot',\n",
              " 'hehe cuteeeeeee',\n",
              " 'beautiful babe',\n",
              " 'pretty ya',\n",
              " 'gorgeous look n stunning photography',\n",
              " 'hey dear looking adorable',\n",
              " 'beautiful shrug',\n",
              " 'stunning whoaaaaa',\n",
              " 'loved top wearing',\n",
              " 'top look awesome',\n",
              " 'love wearing gudindia',\n",
              " 'waiting video excited',\n",
              " 'top look lovely',\n",
              " 'love top excited video',\n",
              " 'nice shot look gorgeous',\n",
              " 'amazing outfit looking fabbb',\n",
              " 'looking beautiful always',\n",
              " 'love colour combination gudindia',\n",
              " 'outfit look beautiful',\n",
              " 'awesome combo look beautiful',\n",
              " 'dress cute gudindia',\n",
              " 'love combo completely gudindia',\n",
              " 'combo best looking lovely',\n",
              " 'red time favorite look superb',\n",
              " 'loving outfit gudindia',\n",
              " 'look ravishing',\n",
              " 'hey collaborate photo edits let know check work profile agree dm thank',\n",
              " 'beautiful shade',\n",
              " 'lakmeindia one favorite brand',\n",
              " 'love pretty lippie',\n",
              " 'wow lovely color lakmeindia',\n",
              " 'love lipstick lakmeindia',\n",
              " 'look fab red love lakmeindia',\n",
              " 'lovely lipstick shade',\n",
              " 'loving whole look lakmeindia',\n",
              " 'lakmeindia red lipstick great picture',\n",
              " 'love scarlet surge lip look amazing',\n",
              " 'look pretty dear',\n",
              " 'love picture',\n",
              " 'love color lipstick',\n",
              " 'red lipstick look beautiful',\n",
              " 'surely participate looking stunning',\n",
              " 'love red shade',\n",
              " 'beautiful neck pc style',\n",
              " 'stunning pichaa']"
            ]
          },
          "metadata": {
            "tags": []
          },
          "execution_count": 12
        }
      ]
    },
    {
      "cell_type": "markdown",
      "metadata": {
        "id": "BShe3TUe-KOl",
        "colab_type": "text"
      },
      "source": [
        "#Creating Label Column from the Existing Data"
      ]
    },
    {
      "cell_type": "code",
      "metadata": {
        "id": "yzic0xpa8N0e",
        "colab_type": "code",
        "colab": {}
      },
      "source": [
        "Label = ['omg never belive able loss weight try several method going gym many thing',\n",
        " 'helpful thanks dr wisdom herb made possible able loss weight use',\n",
        " 'herb root ship drink one month weight return normal',\n",
        " 'happiest creation earth thanks dr wisdom herb god bless forever love',\n",
        " 'plumbodylovin great giveaway lol skinny back school cant even begin tell many taunt used',\n",
        " 'receive khaati piti nai hai kya kuch like bruhhh annoying',\n",
        " 'dont believe body shaming',\n",
        " 'eve faced bodyshaming care plumgoodness',\n",
        " 'wait till school day skinny bad phase',\n",
        " 'checking plumbodylovin never body shamed victim colorism',\n",
        " 'hv hving',\n",
        " 'always find syrup cold cough tablet cofsils india bag',\n",
        " 'needed weather',\n",
        " 'really careful getting cough hell throat definitely check',\n",
        " 'wat wanted father cofsils india',\n",
        " 'drooling ovenstory pizza',\n",
        " 'pizza long',\n",
        " 'miss hving cheese burst pizza',\n",
        " 'need pizza ovenstroy',\n",
        " 'oh wow feeling hungry',\n",
        " 'girl look bomb af',\n",
        " 'omg want paryushan though',\n",
        " 'awaiting video',\n",
        " 'word pretty worthless without',\n",
        " 'letecomers grassisgreeenish cocreateyourjourney iinstahash wed aug',\n",
        " 'kri sha kindly check dm offer thank',\n",
        " 'definitely check',\n",
        " 'product seems promising one',\n",
        " 'watch caught attention',\n",
        " 'waiting video dear',\n",
        " 'check collection gudindia red blue suit much',\n",
        " 'definitely checking gudindia collection',\n",
        " 'superb thought krisha',\n",
        " 'always self love everything beautiful way sharing contest friend',\n",
        " 'amazing giveaway',\n",
        " 'like wow really amazing',\n",
        " 'inspiring body beautiful',\n",
        " 'girl experience totally agree word plumbodylovin hope win',\n",
        " 'yes every body beautiful body',\n",
        " 'wow one absolutely adorable',\n",
        " 'definitely body loving amazing initiative plumbodylovin',\n",
        " 'awesome initiative plumbodylovin family member commented thigh',\n",
        " 'know thick thigh save life',\n",
        " 'still facing fat shaming day okay love body kuddos plumbodylovin',\n",
        " 'fat shammed life totally relate plumbodylovin',\n",
        " 'thts amazing initiative plumbodylovin definitely participating',\n",
        " 'cute need try th range',\n",
        " 'always love',\n",
        " 'definitely body loving always',\n",
        " 'thats pretty amazing initiative plumbodylovin abt body shaming care people think kuch toh log kahenge',\n",
        " 'logo ka kaam hai kehna',\n",
        " 'product seems excellent one',\n",
        " 'wow inspiring',\n",
        " 'inspiring',\n",
        " 'yusssss soooooo inspiring',\n",
        " 'perspective good',\n",
        " 'cofsils india really nice like',\n",
        " 'cofsils india seems really helpful curing cough',\n",
        " 'essential product hour cofsils india',\n",
        " 'cofsils india saviour sure',\n",
        " 'get one cofsils india',\n",
        " 'cofsils india saviour sure',\n",
        " 'thank sharing surely ordering',\n",
        " 'cofsils india gargle must keep u protected changing weather health issue',\n",
        " 'cofsils india always made feel better household staple',\n",
        " 'thats one trusted',\n",
        " 'cofsils india really amazing cough cold',\n",
        " 'product look amazing try',\n",
        " 'product look great try',\n",
        " 'wow informative post',\n",
        " 'post really informative',\n",
        " 'cofsils india amazing product gargle',\n",
        " 'cofsils india always savior',\n",
        " 'already',\n",
        " 'wow informative post',\n",
        " 'forever love',\n",
        " 'ovenstory fav pizza',\n",
        " 'tempting',\n",
        " 'wow look yum',\n",
        " 'wow fabulous really like',\n",
        " 'seems like yummy pizza',\n",
        " 'wait order ovenstory',\n",
        " 'amazing best pizza',\n",
        " 'seems yumm would surely love',\n",
        " 'love ordering ovenstory whenever want snack pizza',\n",
        " 'ovenstory amazing cheesy pizzaaa',\n",
        " 'pizza forever love',\n",
        " 'ovenstory pizza favorite anyday',\n",
        " 'pretty shot',\n",
        " 'love styling babe',\n",
        " 'hahah nice caption pic',\n",
        " 'look pretty one',\n",
        " 'beautiful shot',\n",
        " 'hehe true look pretty',\n",
        " 'wwoww fabulous',\n",
        " 'stunning picture',\n",
        " 'totally well',\n",
        " 'aww u look incredibly cute',\n",
        " 'thats pretty awesome shot love black zipper',\n",
        " 'beautiful shot love editing',\n",
        " 'relatable bte nice click',\n",
        " 'love shot krisha amazing',\n",
        " 'look perfect wing',\n",
        " 'look really pretty absolutely loved top',\n",
        " 'hahah caption perfectly sum capture',\n",
        " 'relatable cute',\n",
        " 'wow beautiful shot',\n",
        " 'amazing post',\n",
        " 'looking beautiful nice pic',\n",
        " 'aww cute shot',\n",
        " 'pretty love ur smile',\n",
        " 'really like aesthetic',\n",
        " 'amazing shot',\n",
        " 'hehe cuteeeeeee',\n",
        " 'beautiful babe',\n",
        " 'pretty ya',\n",
        " 'gorgeous look n stunning photography',\n",
        " 'hey dear looking adorable',\n",
        " 'beautiful shrug',\n",
        " 'stunning whoaaaaa',\n",
        " 'loved top wearing',\n",
        " 'top look awesome',\n",
        " 'love wearing gudindia',\n",
        " 'waiting video excited',\n",
        " 'top look lovely',\n",
        " 'love top excited video',\n",
        " 'nice shot look gorgeous',\n",
        " 'amazing outfit looking fabbb',\n",
        " 'looking beautiful always',\n",
        " 'love colour combination gudindia',\n",
        " 'outfit look beautiful',\n",
        " 'awesome combo look beautiful',\n",
        " 'dress cute gudindia',\n",
        " 'love combo completely gudindia',\n",
        " 'combo best looking lovely',\n",
        " 'red time favorite look superb',\n",
        " 'loving outfit gudindia',\n",
        " 'look ravishing',\n",
        " 'hey collaborate photo edits let know check work profile agree dm thank',\n",
        " 'beautiful shade',\n",
        " 'lakmeindia one favorite brand',\n",
        " 'love pretty lippie',\n",
        " 'wow lovely color lakmeindia',\n",
        " 'love lipstick lakmeindia',\n",
        " 'look fab red love lakmeindia',\n",
        " 'lovely lipstick shade',\n",
        " 'loving whole look lakmeindia',\n",
        " 'lakmeindia red lipstick great picture',\n",
        " 'love scarlet surge lip look amazing',\n",
        " 'look pretty dear',\n",
        " 'love picture',\n",
        " 'love color lipstick',\n",
        " 'red lipstick look beautiful',\n",
        " 'surely participate looking stunning',\n",
        " 'love red shade',\n",
        " 'beautiful neck pc style',\n",
        " 'stunning pichaa']"
      ],
      "execution_count": 13,
      "outputs": []
    },
    {
      "cell_type": "code",
      "metadata": {
        "id": "7QyjTgUW8cB9",
        "colab_type": "code",
        "colab": {}
      },
      "source": [
        "df['Label'] = Label"
      ],
      "execution_count": 14,
      "outputs": []
    },
    {
      "cell_type": "code",
      "metadata": {
        "id": "D_us_j-88jP0",
        "colab_type": "code",
        "colab": {
          "base_uri": "https://localhost:8080/",
          "height": 206
        },
        "outputId": "f6628295-8e99-4d93-8d83-bd023680e31e"
      },
      "source": [
        "df.head()"
      ],
      "execution_count": 15,
      "outputs": [
        {
          "output_type": "execute_result",
          "data": {
            "text/html": [
              "<div>\n",
              "<style scoped>\n",
              "    .dataframe tbody tr th:only-of-type {\n",
              "        vertical-align: middle;\n",
              "    }\n",
              "\n",
              "    .dataframe tbody tr th {\n",
              "        vertical-align: top;\n",
              "    }\n",
              "\n",
              "    .dataframe thead th {\n",
              "        text-align: right;\n",
              "    }\n",
              "</style>\n",
              "<table border=\"1\" class=\"dataframe\">\n",
              "  <thead>\n",
              "    <tr style=\"text-align: right;\">\n",
              "      <th></th>\n",
              "      <th>Comment</th>\n",
              "      <th>Label</th>\n",
              "    </tr>\n",
              "  </thead>\n",
              "  <tbody>\n",
              "    <tr>\n",
              "      <th>0</th>\n",
              "      <td>OMG i never Belive that i will be able to loss...</td>\n",
              "      <td>omg never belive able loss weight try several ...</td>\n",
              "    </tr>\n",
              "    <tr>\n",
              "      <th>1</th>\n",
              "      <td>was not helpful to me thanks to @dr_wisdom_her...</td>\n",
              "      <td>helpful thanks dr wisdom herb made possible ab...</td>\n",
              "    </tr>\n",
              "    <tr>\n",
              "      <th>2</th>\n",
              "      <td>his herbs and roots he ship to me, which i dri...</td>\n",
              "      <td>herb root ship drink one month weight return n...</td>\n",
              "    </tr>\n",
              "    <tr>\n",
              "      <th>3</th>\n",
              "      <td>happiest creation on earth thanks to @dr_wisdo...</td>\n",
              "      <td>happiest creation earth thanks dr wisdom herb ...</td>\n",
              "    </tr>\n",
              "    <tr>\n",
              "      <th>4</th>\n",
              "      <td>@plumbodylovin great giveaway lol... I was ski...</td>\n",
              "      <td>plumbodylovin great giveaway lol skinny back s...</td>\n",
              "    </tr>\n",
              "  </tbody>\n",
              "</table>\n",
              "</div>"
            ],
            "text/plain": [
              "                                             Comment                                              Label\n",
              "0  OMG i never Belive that i will be able to loss...  omg never belive able loss weight try several ...\n",
              "1  was not helpful to me thanks to @dr_wisdom_her...  helpful thanks dr wisdom herb made possible ab...\n",
              "2  his herbs and roots he ship to me, which i dri...  herb root ship drink one month weight return n...\n",
              "3  happiest creation on earth thanks to @dr_wisdo...  happiest creation earth thanks dr wisdom herb ...\n",
              "4  @plumbodylovin great giveaway lol... I was ski...  plumbodylovin great giveaway lol skinny back s..."
            ]
          },
          "metadata": {
            "tags": []
          },
          "execution_count": 15
        }
      ]
    },
    {
      "cell_type": "markdown",
      "metadata": {
        "id": "mCh6uZmz-VaG",
        "colab_type": "text"
      },
      "source": [
        "#Creating Target Column from Existing Data"
      ]
    },
    {
      "cell_type": "code",
      "metadata": {
        "id": "89bJ9SrXw3j3",
        "colab_type": "code",
        "colab": {}
      },
      "source": [
        "target = ['omg never belive able loss weight try several method going gym many thing',\n",
        " 'helpful thanks dr wisdom herb made possible able loss weight use',\n",
        " 'herb root ship drink one month weight return normal',\n",
        " 'happiest creation earth thanks dr wisdom herb god bless forever love',\n",
        " 'plumbodylovin great giveaway lol skinny back school cant even begin tell many taunt used',\n",
        " 'receive khaati piti nai hai kya kuch like bruhhh annoying',\n",
        " 'dont believe body shaming',\n",
        " 'eve faced bodyshaming care plumgoodness',\n",
        " 'wait till school day skinny bad phase',\n",
        " 'checking plumbodylovin never body shamed victim colorism',\n",
        " 'hv hving',\n",
        " 'always find syrup cold cough tablet cofsils india bag',\n",
        " 'needed weather',\n",
        " 'really careful getting cough hell throat definitely check',\n",
        " 'wat wanted father cofsils india',\n",
        " 'drooling ovenstory pizza',\n",
        " 'pizza long',\n",
        " 'miss hving cheese burst pizza',\n",
        " 'need pizza ovenstroy',\n",
        " 'oh wow feeling hungry',\n",
        " 'girl look bomb af',\n",
        " 'omg want paryushan though',\n",
        " 'awaiting video',\n",
        " 'word pretty worthless without',\n",
        " 'letecomers grassisgreeenish cocreateyourjourney iinstahash wed aug',\n",
        " 'kri sha kindly check dm offer thank',\n",
        " 'definitely check',\n",
        " 'product seems promising one',\n",
        " 'watch caught attention',\n",
        " 'waiting video dear',\n",
        " 'check collection gudindia red blue suit much',\n",
        " 'definitely checking gudindia collection',\n",
        " 'superb thought krisha',\n",
        " 'always self love everything beautiful way sharing contest friend',\n",
        " 'amazing giveaway',\n",
        " 'like wow really amazing',\n",
        " 'inspiring body beautiful',\n",
        " 'girl experience totally agree word plumbodylovin hope win',\n",
        " 'yes every body beautiful body',\n",
        " 'wow one absolutely adorable',\n",
        " 'definitely body loving amazing initiative plumbodylovin',\n",
        " 'awesome initiative plumbodylovin family member commented thigh',\n",
        " 'know thick thigh save life',\n",
        " 'still facing fat shaming day okay love body kuddos plumbodylovin',\n",
        " 'fat shammed life totally relate plumbodylovin',\n",
        " 'thts amazing initiative plumbodylovin definitely participating',\n",
        " 'cute need try th range',\n",
        " 'always love',\n",
        " 'definitely body loving always',\n",
        " 'thats pretty amazing initiative plumbodylovin abt body shaming care people think kuch toh log kahenge',\n",
        " 'logo ka kaam hai kehna',\n",
        " 'product seems excellent one',\n",
        " 'wow inspiring',\n",
        " 'inspiring',\n",
        " 'yusssss soooooo inspiring',\n",
        " 'perspective good',\n",
        " 'cofsils india really nice like',\n",
        " 'cofsils india seems really helpful curing cough',\n",
        " 'essential product hour cofsils india',\n",
        " 'cofsils india saviour sure',\n",
        " 'get one cofsils india',\n",
        " 'cofsils india saviour sure',\n",
        " 'thank sharing surely ordering',\n",
        " 'cofsils india gargle must keep u protected changing weather health issue',\n",
        " 'cofsils india always made feel better household staple',\n",
        " 'thats one trusted',\n",
        " 'cofsils india really amazing cough cold',\n",
        " 'product look amazing try',\n",
        " 'product look great try',\n",
        " 'wow informative post',\n",
        " 'post really informative',\n",
        " 'cofsils india amazing product gargle',\n",
        " 'cofsils india always savior',\n",
        " 'already',\n",
        " 'wow informative post',\n",
        " 'forever love',\n",
        " 'ovenstory fav pizza',\n",
        " 'tempting',\n",
        " 'wow look yum',\n",
        " 'wow fabulous really like',\n",
        " 'seems like yummy pizza',\n",
        " 'wait order ovenstory',\n",
        " 'amazing best pizza',\n",
        " 'seems yumm would surely love',\n",
        " 'love ordering ovenstory whenever want snack pizza',\n",
        " 'ovenstory amazing cheesy pizzaaa',\n",
        " 'pizza forever love',\n",
        " 'ovenstory pizza favorite anyday',\n",
        " 'pretty shot',\n",
        " 'love styling babe',\n",
        " 'hahah nice caption pic',\n",
        " 'look pretty one',\n",
        " 'beautiful shot',\n",
        " 'hehe true look pretty',\n",
        " 'wwoww fabulous',\n",
        " 'stunning picture',\n",
        " 'totally well',\n",
        " 'aww u look incredibly cute',\n",
        " 'thats pretty awesome shot love black zipper',\n",
        " 'beautiful shot love editing',\n",
        " 'relatable bte nice click',\n",
        " 'love shot krisha amazing',\n",
        " 'look perfect wing',\n",
        " 'look really pretty absolutely loved top',\n",
        " 'hahah caption perfectly sum capture',\n",
        " 'relatable cute',\n",
        " 'wow beautiful shot',\n",
        " 'amazing post',\n",
        " 'looking beautiful nice pic',\n",
        " 'aww cute shot',\n",
        " 'pretty love ur smile',\n",
        " 'really like aesthetic',\n",
        " 'amazing shot',\n",
        " 'hehe cuteeeeeee',\n",
        " 'beautiful babe',\n",
        " 'pretty ya',\n",
        " 'gorgeous look n stunning photography',\n",
        " 'hey dear looking adorable',\n",
        " 'beautiful shrug',\n",
        " 'stunning whoaaaaa',\n",
        " 'loved top wearing',\n",
        " 'top look awesome',\n",
        " 'love wearing gudindia',\n",
        " 'waiting video excited',\n",
        " 'top look lovely',\n",
        " 'love top excited video',\n",
        " 'nice shot look gorgeous',\n",
        " 'amazing outfit looking fabbb',\n",
        " 'looking beautiful always',\n",
        " 'love colour combination gudindia',\n",
        " 'outfit look beautiful',\n",
        " 'awesome combo look beautiful',\n",
        " 'dress cute gudindia',\n",
        " 'love combo completely gudindia',\n",
        " 'combo best looking lovely',\n",
        " 'red time favorite look superb',\n",
        " 'loving outfit gudindia',\n",
        " 'look ravishing',\n",
        " 'hey collaborate photo edits let know check work profile agree dm thank',\n",
        " 'beautiful shade',\n",
        " 'lakmeindia one favorite brand',\n",
        " 'love pretty lippie',\n",
        " 'wow lovely color lakmeindia',\n",
        " 'love lipstick lakmeindia',\n",
        " 'look fab red love lakmeindia',\n",
        " 'lovely lipstick shade',\n",
        " 'loving whole look lakmeindia',\n",
        " 'lakmeindia red lipstick great picture',\n",
        " 'love scarlet surge lip look amazing',\n",
        " 'look pretty dear',\n",
        " 'love picture',\n",
        " 'love color lipstick',\n",
        " 'red lipstick look beautiful',\n",
        " 'surely participate looking stunning',\n",
        " 'love red shade',\n",
        " 'beautiful neck pc style',\n",
        " 'stunning pichaa']"
      ],
      "execution_count": 16,
      "outputs": []
    },
    {
      "cell_type": "markdown",
      "metadata": {
        "id": "sFnV6BtbfXx6",
        "colab_type": "text"
      },
      "source": [
        "#Convert Target Column into numeric form"
      ]
    },
    {
      "cell_type": "code",
      "metadata": {
        "id": "om3JeqAkxRlx",
        "colab_type": "code",
        "colab": {}
      },
      "source": [
        "df['Target'] = target"
      ],
      "execution_count": 17,
      "outputs": []
    },
    {
      "cell_type": "code",
      "metadata": {
        "id": "tWT-Uq2v8lHT",
        "colab_type": "code",
        "colab": {}
      },
      "source": [
        "dict = {'omg never belive able loss weight try several method going gym many thing':1,\n",
        " 'helpful thanks dr wisdom herb made possible able loss weight use':1,\n",
        " 'herb root ship drink one month weight return normal':1,\n",
        " 'happiest creation earth thanks dr wisdom herb god bless forever love':1,\n",
        " 'plumbodylovin great giveaway lol skinny back school cant even begin tell many taunt used':0,\n",
        " 'receive khaati piti nai hai kya kuch like bruhhh annoying':1,\n",
        " 'dont believe body shaming':1,\n",
        " 'eve faced bodyshaming care plumgoodness':0,\n",
        " 'wait till school day skinny bad phase':1,\n",
        " 'checking plumbodylovin never body shamed victim colorism':0,\n",
        " 'hv hving':1,\n",
        " 'always find syrup cold cough tablet cofsils india bag':1,\n",
        " 'needed weather':1,\n",
        " 'really careful getting cough hell throat definitely check':1,\n",
        " 'wat wanted father cofsils india':0,\n",
        " 'drooling ovenstory pizza':1,\n",
        " 'pizza long':1,\n",
        " 'miss hving cheese burst pizza':1,\n",
        " 'need pizza ovenstroy':1,\n",
        " 'oh wow feeling hungry':1,\n",
        " 'girl look bomb af':0,\n",
        " 'omg want paryushan though':1,\n",
        " 'awaiting video':1,\n",
        " 'word pretty worthless without':1,\n",
        " 'letecomers grassisgreeenish cocreateyourjourney iinstahash wed aug':0,\n",
        " 'kri sha kindly check dm offer thank':1,\n",
        " 'definitely check':1,\n",
        " 'product seems promising one':1,\n",
        " 'watch caught attention':0,\n",
        " 'waiting video dear':1,\n",
        " 'check collection gudindia red blue suit much':0,\n",
        " 'definitely checking gudindia collection':1,\n",
        " 'superb thought krisha':1,\n",
        " 'always self love everything beautiful way sharing contest friend':1,\n",
        " 'amazing giveaway':1,\n",
        " 'like wow really amazing':1,\n",
        " 'inspiring body beautiful':1,\n",
        " 'girl experience totally agree word plumbodylovin hope win':1,\n",
        " 'yes every body beautiful body':1,\n",
        " 'wow one absolutely adorable':1,\n",
        " 'definitely body loving amazing initiative plumbodylovin':1,\n",
        " 'awesome initiative plumbodylovin family member commented thigh':0,\n",
        " 'know thick thigh save life':1,\n",
        " 'still facing fat shaming day okay love body kuddos plumbodylovin':1,\n",
        " 'fat shammed life totally relate plumbodylovin':1,\n",
        " 'thts amazing initiative plumbodylovin definitely participating':1,\n",
        " 'cute need try th range':0,\n",
        " 'always love':1,\n",
        " 'definitely body loving always':1,\n",
        " 'thats pretty amazing initiative plumbodylovin abt body shaming care people think kuch toh log kahenge':1,\n",
        " 'logo ka kaam hai kehna':1,\n",
        " 'product seems excellent one':1,\n",
        " 'wow inspiring':1,\n",
        " 'inspiring':1,\n",
        " 'yusssss soooooo inspiring':1,\n",
        " 'perspective good':1,\n",
        " 'cofsils india really nice like':1,\n",
        " 'cofsils india seems really helpful curing cough':0,\n",
        " 'essential product hour cofsils india':1,\n",
        " 'cofsils india saviour sure':0,\n",
        " 'get one cofsils india':0,\n",
        " 'cofsils india saviour sure':1,\n",
        " 'thank sharing surely ordering':1,\n",
        " 'cofsils india gargle must keep u protected changing weather health issue':0,\n",
        " 'cofsils india always made feel better household staple':1,\n",
        " 'thats one trusted':1,\n",
        " 'cofsils india really amazing cough cold':0,\n",
        " 'product look amazing try':1,\n",
        " 'product look great try':1,\n",
        " 'wow informative post':1,\n",
        " 'post really informative':1,\n",
        " 'cofsils india amazing product gargle':0,\n",
        " 'cofsils india always savior':1,\n",
        " 'already':1,\n",
        " 'wow informative post':1,\n",
        " 'forever love':1,\n",
        " 'ovenstory fav pizza':1,\n",
        " 'tempting':0,\n",
        " 'wow look yum':1,\n",
        " 'wow fabulous really like':1,\n",
        " 'seems like yummy pizza':1,\n",
        " 'wait order ovenstory':1,\n",
        " 'amazing best pizza':1,\n",
        " 'seems yumm would surely love':1,\n",
        " 'love ordering ovenstory whenever want snack pizza':0,\n",
        " 'ovenstory amazing cheesy pizzaaa':1,\n",
        " 'pizza forever love':1,\n",
        " 'ovenstory pizza favorite anyday':1,\n",
        " 'pretty shot':1,\n",
        " 'love styling babe':1,\n",
        " 'hahah nice caption pic':1,\n",
        " 'look pretty one':1,\n",
        " 'beautiful shot':1,\n",
        " 'hehe true look pretty':1,\n",
        " 'wwoww fabulous':0,\n",
        " 'stunning picture':1,\n",
        " 'totally well':1,\n",
        " 'aww u look incredibly cute':1,\n",
        " 'thats pretty awesome shot love black zipper':1,\n",
        " 'beautiful shot love editing':0,\n",
        " 'relatable bte nice click':1,\n",
        " 'love shot krisha amazing':1,\n",
        " 'look perfect wing':1,\n",
        " 'look really pretty absolutely loved top':1,\n",
        " 'hahah caption perfectly sum capture':1,\n",
        " 'relatable cute':1,\n",
        " 'wow beautiful shot':1,\n",
        " 'amazing post':1,\n",
        " 'looking beautiful nice pic':1,\n",
        " 'aww cute shot':1,\n",
        " 'pretty love ur smile':1,\n",
        " 'really like aesthetic':0,\n",
        " 'amazing shot':1,\n",
        " 'hehe cuteeeeeee':0,\n",
        " 'beautiful babe':1,\n",
        " 'pretty ya':1,\n",
        " 'gorgeous look n stunning photography':1,\n",
        " 'hey dear looking adorable':1,\n",
        " 'beautiful shrug':1,\n",
        " 'stunning whoaaaaa':1,\n",
        " 'loved top wearing':1,\n",
        " 'top look awesome':1,\n",
        " 'love wearing gudindia':0,\n",
        " 'waiting video excited':1,\n",
        " 'top look lovely':1,\n",
        " 'love top excited video':0,\n",
        " 'nice shot look gorgeous':1,\n",
        " 'amazing outfit looking fabbb':0,\n",
        " 'looking beautiful always':1,\n",
        " 'love colour combination gudindia':0,\n",
        " 'outfit look beautiful':0,\n",
        " 'awesome combo look beautiful':1,\n",
        " 'dress cute gudindia':1,\n",
        " 'love combo completely gudindia':1,\n",
        " 'combo best looking lovely':1,\n",
        " 'red time favorite look superb':1,\n",
        " 'loving outfit gudindia':0,\n",
        " 'look ravishing':0,\n",
        " 'hey collaborate photo edits let know check work profile agree dm thank':0,\n",
        " 'beautiful shade':1,\n",
        " 'lakmeindia one favorite brand':0,\n",
        " 'love pretty lippie':0,\n",
        " 'wow lovely color lakmeindia':1,\n",
        " 'love lipstick lakmeindia':0,\n",
        " 'look fab red love lakmeindia':1,\n",
        " 'lovely lipstick shade':0,\n",
        " 'loving whole look lakmeindia':1,\n",
        " 'lakmeindia red lipstick great picture':0,\n",
        " 'love scarlet surge lip look amazing':1,\n",
        " 'look pretty dear':1,\n",
        " 'love picture':1,\n",
        " 'love color lipstick':0,\n",
        " 'red lipstick look beautiful':1,\n",
        " 'surely participate looking stunning':0,\n",
        " 'love red shade':0,\n",
        " 'beautiful neck pc style':1,\n",
        " 'stunning pichaa':1}\n",
        "df.replace({'Target':dict},inplace=True)"
      ],
      "execution_count": 18,
      "outputs": []
    },
    {
      "cell_type": "markdown",
      "metadata": {
        "id": "WvLJaV9aALuI",
        "colab_type": "text"
      },
      "source": [
        "#Consider Target Column is my Target.\n",
        "#1 - is repersent the Positive Comment Message.\n",
        "#0 - is repersent the Neegative Comment Message."
      ]
    },
    {
      "cell_type": "code",
      "metadata": {
        "id": "b9jw1adW83gC",
        "colab_type": "code",
        "colab": {
          "base_uri": "https://localhost:8080/",
          "height": 206
        },
        "outputId": "e38ddfb9-221e-47f4-df1d-2494fe79a34b"
      },
      "source": [
        "df.head()"
      ],
      "execution_count": 19,
      "outputs": [
        {
          "output_type": "execute_result",
          "data": {
            "text/html": [
              "<div>\n",
              "<style scoped>\n",
              "    .dataframe tbody tr th:only-of-type {\n",
              "        vertical-align: middle;\n",
              "    }\n",
              "\n",
              "    .dataframe tbody tr th {\n",
              "        vertical-align: top;\n",
              "    }\n",
              "\n",
              "    .dataframe thead th {\n",
              "        text-align: right;\n",
              "    }\n",
              "</style>\n",
              "<table border=\"1\" class=\"dataframe\">\n",
              "  <thead>\n",
              "    <tr style=\"text-align: right;\">\n",
              "      <th></th>\n",
              "      <th>Comment</th>\n",
              "      <th>Label</th>\n",
              "      <th>Target</th>\n",
              "    </tr>\n",
              "  </thead>\n",
              "  <tbody>\n",
              "    <tr>\n",
              "      <th>0</th>\n",
              "      <td>OMG i never Belive that i will be able to loss...</td>\n",
              "      <td>omg never belive able loss weight try several ...</td>\n",
              "      <td>1</td>\n",
              "    </tr>\n",
              "    <tr>\n",
              "      <th>1</th>\n",
              "      <td>was not helpful to me thanks to @dr_wisdom_her...</td>\n",
              "      <td>helpful thanks dr wisdom herb made possible ab...</td>\n",
              "      <td>1</td>\n",
              "    </tr>\n",
              "    <tr>\n",
              "      <th>2</th>\n",
              "      <td>his herbs and roots he ship to me, which i dri...</td>\n",
              "      <td>herb root ship drink one month weight return n...</td>\n",
              "      <td>1</td>\n",
              "    </tr>\n",
              "    <tr>\n",
              "      <th>3</th>\n",
              "      <td>happiest creation on earth thanks to @dr_wisdo...</td>\n",
              "      <td>happiest creation earth thanks dr wisdom herb ...</td>\n",
              "      <td>1</td>\n",
              "    </tr>\n",
              "    <tr>\n",
              "      <th>4</th>\n",
              "      <td>@plumbodylovin great giveaway lol... I was ski...</td>\n",
              "      <td>plumbodylovin great giveaway lol skinny back s...</td>\n",
              "      <td>0</td>\n",
              "    </tr>\n",
              "  </tbody>\n",
              "</table>\n",
              "</div>"
            ],
            "text/plain": [
              "                                             Comment  ... Target\n",
              "0  OMG i never Belive that i will be able to loss...  ...      1\n",
              "1  was not helpful to me thanks to @dr_wisdom_her...  ...      1\n",
              "2  his herbs and roots he ship to me, which i dri...  ...      1\n",
              "3  happiest creation on earth thanks to @dr_wisdo...  ...      1\n",
              "4  @plumbodylovin great giveaway lol... I was ski...  ...      0\n",
              "\n",
              "[5 rows x 3 columns]"
            ]
          },
          "metadata": {
            "tags": []
          },
          "execution_count": 19
        }
      ]
    },
    {
      "cell_type": "markdown",
      "metadata": {
        "id": "P_Ppvi8Yfkwx",
        "colab_type": "text"
      },
      "source": [
        "#Drop the column using pandas data frame"
      ]
    },
    {
      "cell_type": "code",
      "metadata": {
        "id": "PIlWWyn60iFN",
        "colab_type": "code",
        "colab": {}
      },
      "source": [
        "df.drop(['Comment'],axis=1,inplace=True)"
      ],
      "execution_count": 20,
      "outputs": []
    },
    {
      "cell_type": "code",
      "metadata": {
        "id": "AO45DyhK1qeJ",
        "colab_type": "code",
        "colab": {
          "base_uri": "https://localhost:8080/",
          "height": 72
        },
        "outputId": "43059937-e022-46ae-8702-d68c08a92d41"
      },
      "source": [
        "df['Target'].value_counts()"
      ],
      "execution_count": 21,
      "outputs": [
        {
          "output_type": "execute_result",
          "data": {
            "text/plain": [
              "1    120\n",
              "0     37\n",
              "Name: Target, dtype: int64"
            ]
          },
          "metadata": {
            "tags": []
          },
          "execution_count": 21
        }
      ]
    },
    {
      "cell_type": "code",
      "metadata": {
        "id": "TSrgNjVO-sxe",
        "colab_type": "code",
        "colab": {
          "base_uri": "https://localhost:8080/",
          "height": 35
        },
        "outputId": "5e669c09-5579-4712-a274-5d9150678421"
      },
      "source": [
        "df.columns"
      ],
      "execution_count": 22,
      "outputs": [
        {
          "output_type": "execute_result",
          "data": {
            "text/plain": [
              "Index(['Label', 'Target'], dtype='object')"
            ]
          },
          "metadata": {
            "tags": []
          },
          "execution_count": 22
        }
      ]
    },
    {
      "cell_type": "code",
      "metadata": {
        "id": "xVznfCRgqH1Y",
        "colab_type": "code",
        "colab": {
          "base_uri": "https://localhost:8080/",
          "height": 72
        },
        "outputId": "15256a7e-5b6d-46ee-adb6-267993fcc96b"
      },
      "source": [
        "df.dtypes"
      ],
      "execution_count": 23,
      "outputs": [
        {
          "output_type": "execute_result",
          "data": {
            "text/plain": [
              "Label     object\n",
              "Target     int64\n",
              "dtype: object"
            ]
          },
          "metadata": {
            "tags": []
          },
          "execution_count": 23
        }
      ]
    },
    {
      "cell_type": "markdown",
      "metadata": {
        "id": "EAIsPpbo-oH5",
        "colab_type": "text"
      },
      "source": [
        "# Importing essential libraries for performing NLP"
      ]
    },
    {
      "cell_type": "code",
      "metadata": {
        "id": "YTQ0mTB4-bGn",
        "colab_type": "code",
        "colab": {
          "base_uri": "https://localhost:8080/",
          "height": 90
        },
        "outputId": "1b75569e-3559-4140-f2ec-68a10e0665da"
      },
      "source": [
        "import nltk\n",
        "import re\n",
        "nltk.download('stopwords')\n",
        "nltk.download('wordnet')\n",
        "from nltk.corpus import stopwords\n",
        "from nltk.stem import WordNetLemmatizer"
      ],
      "execution_count": 24,
      "outputs": [
        {
          "output_type": "stream",
          "text": [
            "[nltk_data] Downloading package stopwords to /root/nltk_data...\n",
            "[nltk_data]   Package stopwords is already up-to-date!\n",
            "[nltk_data] Downloading package wordnet to /root/nltk_data...\n",
            "[nltk_data]   Package wordnet is already up-to-date!\n"
          ],
          "name": "stdout"
        }
      ]
    },
    {
      "cell_type": "markdown",
      "metadata": {
        "id": "jShvVueofvDo",
        "colab_type": "text"
      },
      "source": [
        "#Cleaning the Data "
      ]
    },
    {
      "cell_type": "code",
      "metadata": {
        "id": "0V4X9uh_-d1I",
        "colab_type": "code",
        "colab": {}
      },
      "source": [
        "#Cleaning the Label Column from existing the Data\n",
        "corpus = []\n",
        "wnl = WordNetLemmatizer()\n",
        "\n",
        "for Label_string in list(df.Label):\n",
        "    #Cleaning special character from the Label Column\n",
        "    Label = re.sub(pattern='[^a-zA-Z]', repl=' ', string=Label_string)\n",
        "    #Converting the entire Label into lower case\n",
        "    Label = Label.lower()\n",
        "    #Tokanizing the Label by words\n",
        "    words = Label.split()\n",
        "    #Removing the stopwards \n",
        "    filtered_words = [word for word in words if word not in set(stopwords.words('english'))]\n",
        "    #Lemmatizing the words\n",
        "    lemmatized_words = [wnl.lemmatize(word) for word in filtered_words]\n",
        "    #Joining the lemmatized words\n",
        "    Comment=' '.join(lemmatized_words)\n",
        "    #Buliding the corpus of Label column\n",
        "    corpus.append(Label)"
      ],
      "execution_count": 25,
      "outputs": []
    },
    {
      "cell_type": "code",
      "metadata": {
        "id": "RVsqQEmq-eON",
        "colab_type": "code",
        "colab": {
          "base_uri": "https://localhost:8080/",
          "height": 109
        },
        "outputId": "2554c242-7252-42ea-a75f-52977839ca0b"
      },
      "source": [
        "corpus[:5]"
      ],
      "execution_count": 26,
      "outputs": [
        {
          "output_type": "execute_result",
          "data": {
            "text/plain": [
              "['omg never belive able loss weight try several method going gym many thing',\n",
              " 'helpful thanks dr wisdom herb made possible able loss weight use',\n",
              " 'herb root ship drink one month weight return normal',\n",
              " 'happiest creation earth thanks dr wisdom herb god bless forever love',\n",
              " 'plumbodylovin great giveaway lol skinny back school cant even begin tell many taunt used']"
            ]
          },
          "metadata": {
            "tags": []
          },
          "execution_count": 26
        }
      ]
    },
    {
      "cell_type": "markdown",
      "metadata": {
        "id": "cX5E1WpU9W3I",
        "colab_type": "text"
      },
      "source": [
        "#Creating a Bag of Words using TfidfVectorizer"
      ]
    },
    {
      "cell_type": "code",
      "metadata": {
        "id": "jPHeFCw19dRH",
        "colab_type": "code",
        "colab": {}
      },
      "source": [
        "#Creating the Bag of words Model\n",
        "from sklearn.feature_extraction.text import TfidfVectorizer\n",
        "tfidf = TfidfVectorizer(max_features=50)\n",
        "vectors = tfidf.fit_transform(corpus).toarray()\n",
        "feature_names = tfidf.get_feature_names()"
      ],
      "execution_count": 27,
      "outputs": []
    },
    {
      "cell_type": "markdown",
      "metadata": {
        "id": "eDPGRufvgQKk",
        "colab_type": "text"
      },
      "source": [
        "#Extracting the Independent and Dependant feature from the data set"
      ]
    },
    {
      "cell_type": "code",
      "metadata": {
        "id": "A9vKRS8-gKsj",
        "colab_type": "code",
        "colab": {}
      },
      "source": [
        "#Extracting the Independent and Dependant feature from the data set\n",
        "X = pd.DataFrame(vectors, columns=feature_names)\n",
        "y = df['Target']"
      ],
      "execution_count": 28,
      "outputs": []
    },
    {
      "cell_type": "code",
      "metadata": {
        "id": "zAu5vVPhEcKy",
        "colab_type": "code",
        "colab": {
          "base_uri": "https://localhost:8080/",
          "height": 226
        },
        "outputId": "0867edcf-f697-47e4-c498-f9435b63a7dd"
      },
      "source": [
        "X.head()"
      ],
      "execution_count": 29,
      "outputs": [
        {
          "output_type": "execute_result",
          "data": {
            "text/html": [
              "<div>\n",
              "<style scoped>\n",
              "    .dataframe tbody tr th:only-of-type {\n",
              "        vertical-align: middle;\n",
              "    }\n",
              "\n",
              "    .dataframe tbody tr th {\n",
              "        vertical-align: top;\n",
              "    }\n",
              "\n",
              "    .dataframe thead th {\n",
              "        text-align: right;\n",
              "    }\n",
              "</style>\n",
              "<table border=\"1\" class=\"dataframe\">\n",
              "  <thead>\n",
              "    <tr style=\"text-align: right;\">\n",
              "      <th></th>\n",
              "      <th>always</th>\n",
              "      <th>amazing</th>\n",
              "      <th>awesome</th>\n",
              "      <th>beautiful</th>\n",
              "      <th>body</th>\n",
              "      <th>check</th>\n",
              "      <th>cofsils</th>\n",
              "      <th>combo</th>\n",
              "      <th>cough</th>\n",
              "      <th>cute</th>\n",
              "      <th>dear</th>\n",
              "      <th>definitely</th>\n",
              "      <th>favorite</th>\n",
              "      <th>forever</th>\n",
              "      <th>great</th>\n",
              "      <th>gudindia</th>\n",
              "      <th>india</th>\n",
              "      <th>informative</th>\n",
              "      <th>initiative</th>\n",
              "      <th>inspiring</th>\n",
              "      <th>lakmeindia</th>\n",
              "      <th>like</th>\n",
              "      <th>lipstick</th>\n",
              "      <th>look</th>\n",
              "      <th>looking</th>\n",
              "      <th>love</th>\n",
              "      <th>lovely</th>\n",
              "      <th>loving</th>\n",
              "      <th>nice</th>\n",
              "      <th>one</th>\n",
              "      <th>ovenstory</th>\n",
              "      <th>picture</th>\n",
              "      <th>pizza</th>\n",
              "      <th>plumbodylovin</th>\n",
              "      <th>post</th>\n",
              "      <th>pretty</th>\n",
              "      <th>product</th>\n",
              "      <th>really</th>\n",
              "      <th>red</th>\n",
              "      <th>seems</th>\n",
              "      <th>shot</th>\n",
              "      <th>stunning</th>\n",
              "      <th>surely</th>\n",
              "      <th>thank</th>\n",
              "      <th>thats</th>\n",
              "      <th>top</th>\n",
              "      <th>totally</th>\n",
              "      <th>try</th>\n",
              "      <th>video</th>\n",
              "      <th>wow</th>\n",
              "    </tr>\n",
              "  </thead>\n",
              "  <tbody>\n",
              "    <tr>\n",
              "      <th>0</th>\n",
              "      <td>0.0</td>\n",
              "      <td>0.0</td>\n",
              "      <td>0.0</td>\n",
              "      <td>0.0</td>\n",
              "      <td>0.0</td>\n",
              "      <td>0.0</td>\n",
              "      <td>0.0</td>\n",
              "      <td>0.0</td>\n",
              "      <td>0.0</td>\n",
              "      <td>0.0</td>\n",
              "      <td>0.0</td>\n",
              "      <td>0.0</td>\n",
              "      <td>0.0</td>\n",
              "      <td>0.00000</td>\n",
              "      <td>0.000000</td>\n",
              "      <td>0.0</td>\n",
              "      <td>0.0</td>\n",
              "      <td>0.0</td>\n",
              "      <td>0.0</td>\n",
              "      <td>0.0</td>\n",
              "      <td>0.0</td>\n",
              "      <td>0.0</td>\n",
              "      <td>0.0</td>\n",
              "      <td>0.0</td>\n",
              "      <td>0.0</td>\n",
              "      <td>0.000000</td>\n",
              "      <td>0.0</td>\n",
              "      <td>0.0</td>\n",
              "      <td>0.0</td>\n",
              "      <td>0.0</td>\n",
              "      <td>0.0</td>\n",
              "      <td>0.0</td>\n",
              "      <td>0.0</td>\n",
              "      <td>0.000000</td>\n",
              "      <td>0.0</td>\n",
              "      <td>0.0</td>\n",
              "      <td>0.0</td>\n",
              "      <td>0.0</td>\n",
              "      <td>0.0</td>\n",
              "      <td>0.0</td>\n",
              "      <td>0.0</td>\n",
              "      <td>0.0</td>\n",
              "      <td>0.0</td>\n",
              "      <td>0.0</td>\n",
              "      <td>0.0</td>\n",
              "      <td>0.0</td>\n",
              "      <td>0.0</td>\n",
              "      <td>1.0</td>\n",
              "      <td>0.0</td>\n",
              "      <td>0.0</td>\n",
              "    </tr>\n",
              "    <tr>\n",
              "      <th>1</th>\n",
              "      <td>0.0</td>\n",
              "      <td>0.0</td>\n",
              "      <td>0.0</td>\n",
              "      <td>0.0</td>\n",
              "      <td>0.0</td>\n",
              "      <td>0.0</td>\n",
              "      <td>0.0</td>\n",
              "      <td>0.0</td>\n",
              "      <td>0.0</td>\n",
              "      <td>0.0</td>\n",
              "      <td>0.0</td>\n",
              "      <td>0.0</td>\n",
              "      <td>0.0</td>\n",
              "      <td>0.00000</td>\n",
              "      <td>0.000000</td>\n",
              "      <td>0.0</td>\n",
              "      <td>0.0</td>\n",
              "      <td>0.0</td>\n",
              "      <td>0.0</td>\n",
              "      <td>0.0</td>\n",
              "      <td>0.0</td>\n",
              "      <td>0.0</td>\n",
              "      <td>0.0</td>\n",
              "      <td>0.0</td>\n",
              "      <td>0.0</td>\n",
              "      <td>0.000000</td>\n",
              "      <td>0.0</td>\n",
              "      <td>0.0</td>\n",
              "      <td>0.0</td>\n",
              "      <td>0.0</td>\n",
              "      <td>0.0</td>\n",
              "      <td>0.0</td>\n",
              "      <td>0.0</td>\n",
              "      <td>0.000000</td>\n",
              "      <td>0.0</td>\n",
              "      <td>0.0</td>\n",
              "      <td>0.0</td>\n",
              "      <td>0.0</td>\n",
              "      <td>0.0</td>\n",
              "      <td>0.0</td>\n",
              "      <td>0.0</td>\n",
              "      <td>0.0</td>\n",
              "      <td>0.0</td>\n",
              "      <td>0.0</td>\n",
              "      <td>0.0</td>\n",
              "      <td>0.0</td>\n",
              "      <td>0.0</td>\n",
              "      <td>0.0</td>\n",
              "      <td>0.0</td>\n",
              "      <td>0.0</td>\n",
              "    </tr>\n",
              "    <tr>\n",
              "      <th>2</th>\n",
              "      <td>0.0</td>\n",
              "      <td>0.0</td>\n",
              "      <td>0.0</td>\n",
              "      <td>0.0</td>\n",
              "      <td>0.0</td>\n",
              "      <td>0.0</td>\n",
              "      <td>0.0</td>\n",
              "      <td>0.0</td>\n",
              "      <td>0.0</td>\n",
              "      <td>0.0</td>\n",
              "      <td>0.0</td>\n",
              "      <td>0.0</td>\n",
              "      <td>0.0</td>\n",
              "      <td>0.00000</td>\n",
              "      <td>0.000000</td>\n",
              "      <td>0.0</td>\n",
              "      <td>0.0</td>\n",
              "      <td>0.0</td>\n",
              "      <td>0.0</td>\n",
              "      <td>0.0</td>\n",
              "      <td>0.0</td>\n",
              "      <td>0.0</td>\n",
              "      <td>0.0</td>\n",
              "      <td>0.0</td>\n",
              "      <td>0.0</td>\n",
              "      <td>0.000000</td>\n",
              "      <td>0.0</td>\n",
              "      <td>0.0</td>\n",
              "      <td>0.0</td>\n",
              "      <td>1.0</td>\n",
              "      <td>0.0</td>\n",
              "      <td>0.0</td>\n",
              "      <td>0.0</td>\n",
              "      <td>0.000000</td>\n",
              "      <td>0.0</td>\n",
              "      <td>0.0</td>\n",
              "      <td>0.0</td>\n",
              "      <td>0.0</td>\n",
              "      <td>0.0</td>\n",
              "      <td>0.0</td>\n",
              "      <td>0.0</td>\n",
              "      <td>0.0</td>\n",
              "      <td>0.0</td>\n",
              "      <td>0.0</td>\n",
              "      <td>0.0</td>\n",
              "      <td>0.0</td>\n",
              "      <td>0.0</td>\n",
              "      <td>0.0</td>\n",
              "      <td>0.0</td>\n",
              "      <td>0.0</td>\n",
              "    </tr>\n",
              "    <tr>\n",
              "      <th>3</th>\n",
              "      <td>0.0</td>\n",
              "      <td>0.0</td>\n",
              "      <td>0.0</td>\n",
              "      <td>0.0</td>\n",
              "      <td>0.0</td>\n",
              "      <td>0.0</td>\n",
              "      <td>0.0</td>\n",
              "      <td>0.0</td>\n",
              "      <td>0.0</td>\n",
              "      <td>0.0</td>\n",
              "      <td>0.0</td>\n",
              "      <td>0.0</td>\n",
              "      <td>0.0</td>\n",
              "      <td>0.85442</td>\n",
              "      <td>0.000000</td>\n",
              "      <td>0.0</td>\n",
              "      <td>0.0</td>\n",
              "      <td>0.0</td>\n",
              "      <td>0.0</td>\n",
              "      <td>0.0</td>\n",
              "      <td>0.0</td>\n",
              "      <td>0.0</td>\n",
              "      <td>0.0</td>\n",
              "      <td>0.0</td>\n",
              "      <td>0.0</td>\n",
              "      <td>0.519584</td>\n",
              "      <td>0.0</td>\n",
              "      <td>0.0</td>\n",
              "      <td>0.0</td>\n",
              "      <td>0.0</td>\n",
              "      <td>0.0</td>\n",
              "      <td>0.0</td>\n",
              "      <td>0.0</td>\n",
              "      <td>0.000000</td>\n",
              "      <td>0.0</td>\n",
              "      <td>0.0</td>\n",
              "      <td>0.0</td>\n",
              "      <td>0.0</td>\n",
              "      <td>0.0</td>\n",
              "      <td>0.0</td>\n",
              "      <td>0.0</td>\n",
              "      <td>0.0</td>\n",
              "      <td>0.0</td>\n",
              "      <td>0.0</td>\n",
              "      <td>0.0</td>\n",
              "      <td>0.0</td>\n",
              "      <td>0.0</td>\n",
              "      <td>0.0</td>\n",
              "      <td>0.0</td>\n",
              "      <td>0.0</td>\n",
              "    </tr>\n",
              "    <tr>\n",
              "      <th>4</th>\n",
              "      <td>0.0</td>\n",
              "      <td>0.0</td>\n",
              "      <td>0.0</td>\n",
              "      <td>0.0</td>\n",
              "      <td>0.0</td>\n",
              "      <td>0.0</td>\n",
              "      <td>0.0</td>\n",
              "      <td>0.0</td>\n",
              "      <td>0.0</td>\n",
              "      <td>0.0</td>\n",
              "      <td>0.0</td>\n",
              "      <td>0.0</td>\n",
              "      <td>0.0</td>\n",
              "      <td>0.00000</td>\n",
              "      <td>0.779324</td>\n",
              "      <td>0.0</td>\n",
              "      <td>0.0</td>\n",
              "      <td>0.0</td>\n",
              "      <td>0.0</td>\n",
              "      <td>0.0</td>\n",
              "      <td>0.0</td>\n",
              "      <td>0.0</td>\n",
              "      <td>0.0</td>\n",
              "      <td>0.0</td>\n",
              "      <td>0.0</td>\n",
              "      <td>0.000000</td>\n",
              "      <td>0.0</td>\n",
              "      <td>0.0</td>\n",
              "      <td>0.0</td>\n",
              "      <td>0.0</td>\n",
              "      <td>0.0</td>\n",
              "      <td>0.0</td>\n",
              "      <td>0.0</td>\n",
              "      <td>0.626621</td>\n",
              "      <td>0.0</td>\n",
              "      <td>0.0</td>\n",
              "      <td>0.0</td>\n",
              "      <td>0.0</td>\n",
              "      <td>0.0</td>\n",
              "      <td>0.0</td>\n",
              "      <td>0.0</td>\n",
              "      <td>0.0</td>\n",
              "      <td>0.0</td>\n",
              "      <td>0.0</td>\n",
              "      <td>0.0</td>\n",
              "      <td>0.0</td>\n",
              "      <td>0.0</td>\n",
              "      <td>0.0</td>\n",
              "      <td>0.0</td>\n",
              "      <td>0.0</td>\n",
              "    </tr>\n",
              "  </tbody>\n",
              "</table>\n",
              "</div>"
            ],
            "text/plain": [
              "   always  amazing  awesome  beautiful  body  ...  top  totally  try  video  wow\n",
              "0     0.0      0.0      0.0        0.0   0.0  ...  0.0      0.0  1.0    0.0  0.0\n",
              "1     0.0      0.0      0.0        0.0   0.0  ...  0.0      0.0  0.0    0.0  0.0\n",
              "2     0.0      0.0      0.0        0.0   0.0  ...  0.0      0.0  0.0    0.0  0.0\n",
              "3     0.0      0.0      0.0        0.0   0.0  ...  0.0      0.0  0.0    0.0  0.0\n",
              "4     0.0      0.0      0.0        0.0   0.0  ...  0.0      0.0  0.0    0.0  0.0\n",
              "\n",
              "[5 rows x 50 columns]"
            ]
          },
          "metadata": {
            "tags": []
          },
          "execution_count": 29
        }
      ]
    },
    {
      "cell_type": "code",
      "metadata": {
        "id": "MrQcaYYB2h1M",
        "colab_type": "code",
        "colab": {
          "base_uri": "https://localhost:8080/",
          "height": 237
        },
        "outputId": "303359a7-7ba8-4f75-cf78-dc6103e9dd05"
      },
      "source": [
        "y"
      ],
      "execution_count": 30,
      "outputs": [
        {
          "output_type": "execute_result",
          "data": {
            "text/plain": [
              "0      1\n",
              "1      1\n",
              "2      1\n",
              "3      1\n",
              "4      0\n",
              "      ..\n",
              "152    1\n",
              "153    0\n",
              "154    0\n",
              "155    1\n",
              "156    1\n",
              "Name: Target, Length: 157, dtype: int64"
            ]
          },
          "metadata": {
            "tags": []
          },
          "execution_count": 30
        }
      ]
    },
    {
      "cell_type": "markdown",
      "metadata": {
        "id": "yTFGc-OD3wKX",
        "colab_type": "text"
      },
      "source": [
        "#Spliting the Data Set Using train_test_split"
      ]
    },
    {
      "cell_type": "code",
      "metadata": {
        "id": "M9sU5jRAE6-X",
        "colab_type": "code",
        "colab": {}
      },
      "source": [
        "from sklearn.model_selection import train_test_split"
      ],
      "execution_count": 31,
      "outputs": []
    },
    {
      "cell_type": "code",
      "metadata": {
        "id": "A_igiIcOFwtd",
        "colab_type": "code",
        "colab": {}
      },
      "source": [
        "training_x,test_x,training_y,test_y = train_test_split(X,y,test_size=0.1,random_state=42)"
      ],
      "execution_count": 32,
      "outputs": []
    },
    {
      "cell_type": "code",
      "metadata": {
        "id": "KwVCyGrUGIi-",
        "colab_type": "code",
        "colab": {
          "base_uri": "https://localhost:8080/",
          "height": 35
        },
        "outputId": "ce6a7c89-0c77-494e-80c0-0cfc62ed4be3"
      },
      "source": [
        "training_x.shape"
      ],
      "execution_count": 33,
      "outputs": [
        {
          "output_type": "execute_result",
          "data": {
            "text/plain": [
              "(141, 50)"
            ]
          },
          "metadata": {
            "tags": []
          },
          "execution_count": 33
        }
      ]
    },
    {
      "cell_type": "code",
      "metadata": {
        "id": "ZehJSKm9GKqn",
        "colab_type": "code",
        "colab": {
          "base_uri": "https://localhost:8080/",
          "height": 35
        },
        "outputId": "47c8da39-2520-4e82-8397-3eb019331b78"
      },
      "source": [
        "test_x.shape"
      ],
      "execution_count": 34,
      "outputs": [
        {
          "output_type": "execute_result",
          "data": {
            "text/plain": [
              "(16, 50)"
            ]
          },
          "metadata": {
            "tags": []
          },
          "execution_count": 34
        }
      ]
    },
    {
      "cell_type": "markdown",
      "metadata": {
        "id": "WrwB17uJgMIl",
        "colab_type": "text"
      },
      "source": [
        "#Make Model"
      ]
    },
    {
      "cell_type": "markdown",
      "metadata": {
        "id": "45rNWfuadbYa",
        "colab_type": "text"
      },
      "source": [
        "#Random Forest Classifier using GridSearchCV"
      ]
    },
    {
      "cell_type": "code",
      "metadata": {
        "id": "fobIDIM7zoG9",
        "colab_type": "code",
        "colab": {}
      },
      "source": [
        "from sklearn.ensemble import RandomForestClassifier\n",
        "rfc=RandomForestClassifier(random_state=42)"
      ],
      "execution_count": 35,
      "outputs": []
    },
    {
      "cell_type": "code",
      "metadata": {
        "id": "bS5qXyhWznmB",
        "colab_type": "code",
        "colab": {}
      },
      "source": [
        "param_grid = { \n",
        "    'n_estimators': [200, 500],\n",
        "    'max_features': ['auto', 'sqrt', 'log2'],\n",
        "    'max_depth' : [4,5,6,7,8],\n",
        "    'criterion' :['gini', 'entropy']\n",
        "}"
      ],
      "execution_count": 36,
      "outputs": []
    },
    {
      "cell_type": "code",
      "metadata": {
        "id": "5u50IhuTznIj",
        "colab_type": "code",
        "colab": {
          "base_uri": "https://localhost:8080/",
          "height": 421
        },
        "outputId": "b06b3a79-08bc-4c40-f23b-5fa4e176aed9"
      },
      "source": [
        "CV_rfc = GridSearchCV(estimator=rfc, param_grid=param_grid, cv= 5)\n",
        "CV_rfc.fit(training_x, training_y)"
      ],
      "execution_count": 37,
      "outputs": [
        {
          "output_type": "execute_result",
          "data": {
            "text/plain": [
              "GridSearchCV(cv=5, error_score=nan,\n",
              "             estimator=RandomForestClassifier(bootstrap=True, ccp_alpha=0.0,\n",
              "                                              class_weight=None,\n",
              "                                              criterion='gini', max_depth=None,\n",
              "                                              max_features='auto',\n",
              "                                              max_leaf_nodes=None,\n",
              "                                              max_samples=None,\n",
              "                                              min_impurity_decrease=0.0,\n",
              "                                              min_impurity_split=None,\n",
              "                                              min_samples_leaf=1,\n",
              "                                              min_samples_split=2,\n",
              "                                              min_weight_fraction_leaf=0.0,\n",
              "                                              n_estimators=100, n_jobs=None,\n",
              "                                              oob_score=False, random_state=42,\n",
              "                                              verbose=0, warm_start=False),\n",
              "             iid='deprecated', n_jobs=None,\n",
              "             param_grid={'criterion': ['gini', 'entropy'],\n",
              "                         'max_depth': [4, 5, 6, 7, 8],\n",
              "                         'max_features': ['auto', 'sqrt', 'log2'],\n",
              "                         'n_estimators': [200, 500]},\n",
              "             pre_dispatch='2*n_jobs', refit=True, return_train_score=False,\n",
              "             scoring=None, verbose=0)"
            ]
          },
          "metadata": {
            "tags": []
          },
          "execution_count": 37
        }
      ]
    },
    {
      "cell_type": "code",
      "metadata": {
        "id": "-avFKKyOzmrv",
        "colab_type": "code",
        "colab": {
          "base_uri": "https://localhost:8080/",
          "height": 90
        },
        "outputId": "e0bc413d-6d44-4278-ea6a-c06be4aea54b"
      },
      "source": [
        "CV_rfc.best_params_"
      ],
      "execution_count": 38,
      "outputs": [
        {
          "output_type": "execute_result",
          "data": {
            "text/plain": [
              "{'criterion': 'gini',\n",
              " 'max_depth': 8,\n",
              " 'max_features': 'auto',\n",
              " 'n_estimators': 200}"
            ]
          },
          "metadata": {
            "tags": []
          },
          "execution_count": 38
        }
      ]
    },
    {
      "cell_type": "code",
      "metadata": {
        "id": "gCdLPwsizl6a",
        "colab_type": "code",
        "colab": {}
      },
      "source": [
        "rfc1=RandomForestClassifier(random_state=42, max_features='auto', n_estimators= 200, max_depth=8, criterion='gini')"
      ],
      "execution_count": 39,
      "outputs": []
    },
    {
      "cell_type": "code",
      "metadata": {
        "id": "wIqAwtIT1MN4",
        "colab_type": "code",
        "colab": {
          "base_uri": "https://localhost:8080/",
          "height": 164
        },
        "outputId": "fd49a9d3-42dc-4462-d387-1646a297f02e"
      },
      "source": [
        "rfc1.fit(training_x, training_y)"
      ],
      "execution_count": 40,
      "outputs": [
        {
          "output_type": "execute_result",
          "data": {
            "text/plain": [
              "RandomForestClassifier(bootstrap=True, ccp_alpha=0.0, class_weight=None,\n",
              "                       criterion='gini', max_depth=8, max_features='auto',\n",
              "                       max_leaf_nodes=None, max_samples=None,\n",
              "                       min_impurity_decrease=0.0, min_impurity_split=None,\n",
              "                       min_samples_leaf=1, min_samples_split=2,\n",
              "                       min_weight_fraction_leaf=0.0, n_estimators=200,\n",
              "                       n_jobs=None, oob_score=False, random_state=42, verbose=0,\n",
              "                       warm_start=False)"
            ]
          },
          "metadata": {
            "tags": []
          },
          "execution_count": 40
        }
      ]
    },
    {
      "cell_type": "code",
      "metadata": {
        "id": "qdYy-JsM1MDE",
        "colab_type": "code",
        "colab": {}
      },
      "source": [
        "y_pred=rfc1.predict(test_x)"
      ],
      "execution_count": 41,
      "outputs": []
    },
    {
      "cell_type": "code",
      "metadata": {
        "id": "QKFn_-vW1L1w",
        "colab_type": "code",
        "colab": {
          "base_uri": "https://localhost:8080/",
          "height": 35
        },
        "outputId": "998a1bc1-645c-416d-b80f-312124ca4a8c"
      },
      "source": [
        "print(\"Accuracy for Random Forest on CV data: \",accuracy_score(test_y,y_pred))"
      ],
      "execution_count": 42,
      "outputs": [
        {
          "output_type": "stream",
          "text": [
            "Accuracy for Random Forest on CV data:  0.6875\n"
          ],
          "name": "stdout"
        }
      ]
    },
    {
      "cell_type": "markdown",
      "metadata": {
        "id": "_Sg79nzYDImO",
        "colab_type": "text"
      },
      "source": [
        "#Classification Report with Accuracy and Visulization Matrix"
      ]
    },
    {
      "cell_type": "code",
      "metadata": {
        "id": "B9SKQ4Z7bvcG",
        "colab_type": "code",
        "colab": {
          "base_uri": "https://localhost:8080/",
          "height": 627
        },
        "outputId": "26276bf7-3eb8-4850-8896-77b610ab25f0"
      },
      "source": [
        "print(classification_report(test_y,y_pred))\n",
        "print(\"###################################################\")\n",
        "#Confusion Matrix of Random Forest Model\n",
        "cm = confusion_matrix(test_y,y_pred)\n",
        "plt.figure(figsize=(5,5))\n",
        "g = sns.heatmap(data=cm, annot=True, cmap='Blues')\n",
        "p = plt.xlabel(\"Actual Values\")\n",
        "p = plt.ylabel(\"Predicted Values\")\n",
        "p = plt.title(\"Confusion Matrix for Random Forest Model\")\n",
        "print(\"Accuracy Score of Random Forest Model\")\n",
        "from sklearn.metrics import accuracy_score\n",
        "accuracy_score(test_y,y_pred)"
      ],
      "execution_count": 44,
      "outputs": [
        {
          "output_type": "stream",
          "text": [
            "              precision    recall  f1-score   support\n",
            "\n",
            "           0       0.00      0.00      0.00         5\n",
            "           1       0.69      1.00      0.81        11\n",
            "\n",
            "    accuracy                           0.69        16\n",
            "   macro avg       0.34      0.50      0.41        16\n",
            "weighted avg       0.47      0.69      0.56        16\n",
            "\n",
            "###################################################\n",
            "Accuracy Score of Random Forest Model\n"
          ],
          "name": "stdout"
        },
        {
          "output_type": "stream",
          "text": [
            "/usr/local/lib/python3.6/dist-packages/sklearn/metrics/_classification.py:1272: UndefinedMetricWarning: Precision and F-score are ill-defined and being set to 0.0 in labels with no predicted samples. Use `zero_division` parameter to control this behavior.\n",
            "  _warn_prf(average, modifier, msg_start, len(result))\n"
          ],
          "name": "stderr"
        },
        {
          "output_type": "execute_result",
          "data": {
            "text/plain": [
              "0.6875"
            ]
          },
          "metadata": {
            "tags": []
          },
          "execution_count": 44
        },
        {
          "output_type": "display_data",
          "data": {
            "image/png": "[encoded data removed]",
            "text/plain": [
              "<Figure size 360x360 with 2 Axes>"
            ]
          },
          "metadata": {
            "tags": [],
            "needs_background": "light"
          }
        }
      ]
    },
    {
      "cell_type": "markdown",
      "metadata": {
        "id": "LrUIdifw1Toc",
        "colab_type": "text"
      },
      "source": [
        "#Prediction using Random Forest Classifier"
      ]
    },
    {
      "cell_type": "code",
      "metadata": {
        "id": "6sXUec97xay_",
        "colab_type": "code",
        "colab": {}
      },
      "source": [
        "def predict_Label(sample_comment):\n",
        "  sample_comment = re.sub(pattern='[^a-zA-Z]',repl=' ', string = sample_comment)\n",
        "  sample_comment = sample_comment.lower()\n",
        "  sample_comment_words = sample_comment.split()\n",
        "  sample_comment_words = [word for word in sample_comment_words if not word in set(stopwords.words('english'))]\n",
        "  final_comment = [wnl.lemmatize(word) for word in sample_comment_words]\n",
        "  final_comment = ' '.join(final_comment)\n",
        "\n",
        "  temp = tfidf.transform([final_comment]).toarray()\n",
        "  return rfc1.predict(temp)"
      ],
      "execution_count": 45,
      "outputs": []
    },
    {
      "cell_type": "code",
      "metadata": {
        "id": "dXnB3vObxaur",
        "colab_type": "code",
        "colab": {
          "base_uri": "https://localhost:8080/",
          "height": 35
        },
        "outputId": "123867b5-bfa6-41e1-f8e3-76f5690cb3dd"
      },
      "source": [
        "# Prediction 1 - text Label\n",
        "sample_comment = 'pretty love ur smile' #This is a positive Comment repersent by (1)\n",
        "if predict_Label(sample_comment):\n",
        "  print('Gotcha! This is a Positive Comment.')\n",
        "else:\n",
        "  print('This is a Negative Message')"
      ],
      "execution_count": 46,
      "outputs": [
        {
          "output_type": "stream",
          "text": [
            "Gotcha! This is a Positive Comment.\n"
          ],
          "name": "stdout"
        }
      ]
    },
    {
      "cell_type": "code",
      "metadata": {
        "id": "FrgZ77eaxaq_",
        "colab_type": "code",
        "colab": {
          "base_uri": "https://localhost:8080/",
          "height": 35
        },
        "outputId": "94d67ba0-4aaa-4865-a545-d8a3a5366404"
      },
      "source": [
        "# Prediction 1 - text Label\n",
        "sample_comment = 'love lipstick lakmeindia' #This is a negative Comment repersent by (0)\n",
        "\n",
        "if predict_Label(sample_comment):\n",
        "  print('Gotcha! This is a Positive Comment.')\n",
        "else:\n",
        "  print('This is a Negative Message')"
      ],
      "execution_count": 47,
      "outputs": [
        {
          "output_type": "stream",
          "text": [
            "This is a Negative Message\n"
          ],
          "name": "stdout"
        }
      ]
    },
    {
      "cell_type": "code",
      "metadata": {
        "id": "5h21R_1Sxane",
        "colab_type": "code",
        "colab": {}
      },
      "source": [
        ""
      ],
      "execution_count": null,
      "outputs": []
    },
    {
      "cell_type": "code",
      "metadata": {
        "id": "R-NAIfOAZsZb",
        "colab_type": "code",
        "colab": {}
      },
      "source": [
        ""
      ],
      "execution_count": null,
      "outputs": []
    }
  ]
}